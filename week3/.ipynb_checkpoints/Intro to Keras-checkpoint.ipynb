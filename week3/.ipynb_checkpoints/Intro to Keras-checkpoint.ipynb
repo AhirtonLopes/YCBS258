{
 "cells": [
  {
   "cell_type": "code",
   "execution_count": 0,
   "metadata": {
    "colab": {},
    "colab_type": "code",
    "id": "ZZV1xvIrkKON"
   },
   "outputs": [],
   "source": [
    "# TensorFlow public guest runtime"
   ]
  },
  {
   "cell_type": "code",
   "execution_count": 0,
   "metadata": {
    "colab": {},
    "colab_type": "code",
    "id": "ZHlbl6XNkNn9"
   },
   "outputs": [],
   "source": [
    "movies = [u'Finding Nemo', u'Harry Potter and the Deathly Hallows \\t', u'Incredibles 2', u'Jurassic Park', u\"Pirates of the Caribbean: Dead Man's Chest\", u'Skyfall', u'Star Wars: The Force Awakens', u'The Lord of the Rings: The Return of the King', u'Titanic', u'Toy Story 3']\n",
    "scores = [[3, 4, 4, 4, 3, 5, 5, 5, 3, 4], [4, 3, 3, 2, 4, 3, 3, 3, 5, 4], [5, 5, 1, 2, 5, 5, 2, 5, 5, 5], [3, 4, 3, 3, 1, 1, 1, 3, 2, 4], [3, 3, 3, 3, 3, 3, 3, 5, 3, 3], [4, 1, 4, 1, 4, 4, 1, 3, 4, 4], [3, 3, 4, 2, 4, 3, 4, 5, 3, 3], [5, 4, 4, 3, 3, 4, 1, 5, 5, 3], [4, 3, 3, 4, 5, 4, 3, 5, 4, 4], [1, 4, 4, 4, 3, 3, 4, 4, 5, 1], [3, 3, 3, 4, 4, 3, 3, 4, 4, 4], [4, 4, 4, 2, 2, 5, 4, 5, 2, 2], [4, 1, 3, 5, 2, 5, 2, 5, 2, 2], [5, 2, 2, 3, 4, 2, 4, 5, 3, 3], [5, 4, 4, 4, 5, 4, 2, 3, 3, 5], [5, 3, 2, 3, 4, 4, 4, 5, 3, 3], [5, 4, 3, 4, 4, 3, 1, 3, 3, 3], [3, 3, 4, 5, 2, 4, 2, 4, 3, 4]]"
   ]
  },
  {
   "cell_type": "code",
   "execution_count": 0,
   "metadata": {
    "colab": {},
    "colab_type": "code",
    "id": "ejPB5ThxkQDh"
   },
   "outputs": [],
   "source": [
    "import numpy as np\n",
    "\n",
    "scores = [[3, 4, 4, 4, 3, 5, 5, 5, 3, 4], [4, 3, 3, 2, 4, 3, 3, 3, 5, 4], [5, 5, 1, 2, 5, 5, 2, 5, 5, 5], [3, 4, 3, 3, 1, 1, 1, 3, 2, 4], [3, 3, 3, 3, 3, 3, 3, 5, 3, 3], [4, 1, 4, 1, 4, 4, 1, 3, 4, 4], [3, 3, 4, 2, 4, 3, 4, 5, 3, 3], [5, 4, 4, 3, 3, 4, 1, 5, 5, 3], [4, 3, 3, 4, 5, 4, 3, 5, 4, 4], [1, 4, 4, 4, 3, 3, 4, 4, 5, 1], [3, 3, 3, 4, 4, 3, 3, 4, 4, 4], [4, 4, 4, 2, 2, 5, 4, 5, 2, 2], [4, 1, 3, 5, 2, 5, 2, 5, 2, 2], [5, 2, 2, 3, 4, 2, 4, 5, 3, 3], [5, 4, 4, 4, 5, 4, 2, 3, 3, 5], [5, 3, 2, 3, 4, 4, 4, 5, 3, 3], [5, 4, 3, 4, 4, 3, 1, 3, 3, 3], [3, 3, 4, 5, 2, 4, 2, 4, 3, 4]]\n",
    "\n",
    "X = np.array([i[0:9] for i in scores])\n",
    "y = np.array([i[-1] for i in scores])\n",
    "\n",
    "\n",
    "import keras\n",
    "from keras import layers\n",
    "\n",
    "model = keras.Sequential()\n",
    "\n",
    "model.add(layers.Dense(20, activation='relu', input_shape=(9,)))\n",
    "model.add(layers.Dense(20, activation='relu'))\n",
    "model.add(layers.Dense(1))\n",
    "\n",
    "model.compile(loss='mean_squared_error', optimizer='adam')\n",
    "\n",
    "model.fit(X, y, epochs=10, batch_size=2)"
   ]
  },
  {
   "cell_type": "code",
   "execution_count": 0,
   "metadata": {
    "colab": {
     "height": 706
    },
    "colab_type": "code",
    "executionInfo": {
     "elapsed": 1429,
     "status": "ok",
     "timestamp": 1542037450475,
     "user": {
      "displayName": "Nicolas Feller",
      "photoUrl": "https://lh5.googleusercontent.com/-sC2bAVvYsAc/AAAAAAAAAAI/AAAAAAAAABY/D6sENztOMro/s64/photo.jpg",
      "userId": "15300722059085707561"
     },
     "user_tz": 300
    },
    "id": "VokR6mqxkR95",
    "outputId": "323fdf17-a41e-4385-c927-5d63edf803b5"
   },
   "outputs": [
    {
     "name": "stdout",
     "output_type": "stream",
     "text": [
      "Epoch 1/10\n",
      "\n",
      " 2/18 [==>...........................] - ETA: 3s - loss: 14.5907\n",
      "18/18 [==============================] - 0s 24ms/step - loss: 12.3830\n",
      "Epoch 2/10\n",
      "\n",
      " 2/18 [==>...........................] - ETA: 0s - loss: 9.6136\n",
      "18/18 [==============================] - 0s 1ms/step - loss: 6.1787\n",
      "Epoch 3/10\n",
      "\n",
      " 2/18 [==>...........................] - ETA: 0s - loss: 8.4934\n",
      "18/18 [==============================] - 0s 3ms/step - loss: 3.3478\n",
      "Epoch 4/10\n",
      "\n",
      " 2/18 [==>...........................] - ETA: 0s - loss: 1.6842\n",
      "18/18 [==============================] - 0s 1ms/step - loss: 2.2183\n",
      "Epoch 5/10\n",
      "\n",
      " 2/18 [==>...........................] - ETA: 0s - loss: 1.4401\n",
      "18/18 [==============================] - 0s 2ms/step - loss: 1.6619\n",
      "Epoch 6/10\n",
      "\n",
      " 2/18 [==>...........................] - ETA: 0s - loss: 2.7785\n",
      "18/18 [==============================] - 0s 2ms/step - loss: 1.3325\n",
      "Epoch 7/10\n",
      "\n",
      " 2/18 [==>...........................] - ETA: 0s - loss: 2.7049\n",
      "18/18 [==============================] - 0s 1ms/step - loss: 1.1467\n",
      "Epoch 8/10\n",
      "\n",
      " 2/18 [==>...........................] - ETA: 0s - loss: 0.8590\n",
      "18/18 [==============================] - 0s 2ms/step - loss: 1.0461\n",
      "Epoch 9/10\n",
      "\n",
      " 2/18 [==>...........................] - ETA: 0s - loss: 1.2331\n",
      "18/18 [==============================] - 0s 2ms/step - loss: 1.0220\n",
      "Epoch 10/10\n",
      "\n",
      " 2/18 [==>...........................] - ETA: 0s - loss: 0.1510\n",
      "18/18 [==============================] - 0s 1ms/step - loss: 0.9829\n"
     ]
    },
    {
     "data": {
      "text/plain": [
       "<keras.callbacks.History at 0x7f7dd0ee5d50>"
      ]
     },
     "execution_count": 15,
     "metadata": {
      "tags": []
     },
     "output_type": "execute_result"
    }
   ],
   "source": [
    "import keras\n",
    "from keras import layers\n",
    "\n",
    "model = keras.Sequential()\n",
    "\n",
    "model.add(layers.Dense(20, activation='relu', input_shape=(9,)))\n",
    "model.add(layers.Dense(20, activation='relu'))\n",
    "model.add(layers.Dense(1))\n",
    "\n",
    "model.compile(loss='mean_squared_error', optimizer='adam')\n",
    "\n",
    "model.fit(X, y, epochs=10, batch_size=2)"
   ]
  },
  {
   "cell_type": "code",
   "execution_count": 0,
   "metadata": {
    "colab": {
     "height": 706
    },
    "colab_type": "code",
    "executionInfo": {
     "elapsed": 1389,
     "status": "ok",
     "timestamp": 1542037451890,
     "user": {
      "displayName": "Nicolas Feller",
      "photoUrl": "https://lh5.googleusercontent.com/-sC2bAVvYsAc/AAAAAAAAAAI/AAAAAAAAABY/D6sENztOMro/s64/photo.jpg",
      "userId": "15300722059085707561"
     },
     "user_tz": 300
    },
    "id": "IaacP9QckS_M",
    "outputId": "e37f75f5-0a61-4ab2-d5c0-7eed62661a5e"
   },
   "outputs": [
    {
     "name": "stdout",
     "output_type": "stream",
     "text": [
      "Epoch 1/10\n",
      "\n",
      " 2/18 [==>...........................] - ETA: 3s - loss: 60.9345\n",
      "18/18 [==============================] - 0s 27ms/step - loss: 40.9771\n",
      "Epoch 2/10\n",
      "\n",
      " 2/18 [==>...........................] - ETA: 0s - loss: 38.4235\n",
      "18/18 [==============================] - 0s 2ms/step - loss: 30.5942\n",
      "Epoch 3/10\n",
      "\n",
      " 2/18 [==>...........................] - ETA: 0s - loss: 22.2897\n",
      "18/18 [==============================] - 0s 2ms/step - loss: 22.9613\n",
      "Epoch 4/10\n",
      "\n",
      " 2/18 [==>...........................] - ETA: 0s - loss: 14.7505\n",
      "18/18 [==============================] - 0s 1ms/step - loss: 16.3791\n",
      "Epoch 5/10\n",
      "\n",
      " 2/18 [==>...........................] - ETA: 0s - loss: 10.2738\n",
      "18/18 [==============================] - 0s 2ms/step - loss: 10.8635\n",
      "Epoch 6/10\n",
      "\n",
      " 2/18 [==>...........................] - ETA: 0s - loss: 10.7036\n",
      "18/18 [==============================] - 0s 1ms/step - loss: 6.2182\n",
      "Epoch 7/10\n",
      "\n",
      " 2/18 [==>...........................] - ETA: 0s - loss: 4.5383\n",
      "18/18 [==============================] - 0s 1ms/step - loss: 2.7471\n",
      "Epoch 8/10\n",
      "\n",
      " 2/18 [==>...........................] - ETA: 0s - loss: 0.4709\n",
      "18/18 [==============================] - 0s 863us/step - loss: 1.5188\n",
      "Epoch 9/10\n",
      "\n",
      " 2/18 [==>...........................] - ETA: 0s - loss: 0.0101\n",
      "18/18 [==============================] - 0s 885us/step - loss: 1.3136\n",
      "Epoch 10/10\n",
      "\n",
      " 2/18 [==>...........................] - ETA: 0s - loss: 1.6074\n",
      "18/18 [==============================] - 0s 3ms/step - loss: 1.2880\n"
     ]
    },
    {
     "data": {
      "text/plain": [
       "<keras.callbacks.History at 0x7f7dd059a510>"
      ]
     },
     "execution_count": 16,
     "metadata": {
      "tags": []
     },
     "output_type": "execute_result"
    }
   ],
   "source": [
    "import keras \n",
    "from keras import layers\n",
    "model = keras.Sequential()\n",
    "\n",
    "inputs = keras.Input(shape=(9,))\n",
    "x = layers.Dense(20, activation='relu')(inputs)\n",
    "x = layers.Dense(20, activation='relu')(x)\n",
    "\n",
    "outputs = layers.Dense(1)(x)\n",
    "\n",
    "model = keras.Model(inputs, outputs)\n",
    "model.compile(loss='mean_squared_error', optimizer='adam')\n",
    "model.fit(X, y, epochs=10, batch_size=2)"
   ]
  },
  {
   "cell_type": "code",
   "execution_count": 0,
   "metadata": {
    "colab": {
     "height": 50
    },
    "colab_type": "code",
    "executionInfo": {
     "elapsed": 220,
     "status": "ok",
     "timestamp": 1542037512491,
     "user": {
      "displayName": "Nicolas Feller",
      "photoUrl": "https://lh5.googleusercontent.com/-sC2bAVvYsAc/AAAAAAAAAAI/AAAAAAAAABY/D6sENztOMro/s64/photo.jpg",
      "userId": "15300722059085707561"
     },
     "user_tz": 300
    },
    "id": "BAH-hCLvmFzl",
    "outputId": "f10cd66b-ff63-4e1b-cdbb-9e022c77a3b9"
   },
   "outputs": [
    {
     "name": "stdout",
     "output_type": "stream",
     "text": [
      "1.12.0-rc0\n",
      "2.2.4-tf\n"
     ]
    }
   ],
   "source": [
    "import tensorflow as tf\n",
    "from tensorflow.keras import layers\n",
    "\n",
    "print(tf.VERSION)\n",
    "print(tf.keras.__version__)"
   ]
  },
  {
   "cell_type": "code",
   "execution_count": 0,
   "metadata": {
    "colab": {
     "height": 370
    },
    "colab_type": "code",
    "executionInfo": {
     "elapsed": 1422,
     "status": "ok",
     "timestamp": 1542037513993,
     "user": {
      "displayName": "Nicolas Feller",
      "photoUrl": "https://lh5.googleusercontent.com/-sC2bAVvYsAc/AAAAAAAAAAI/AAAAAAAAABY/D6sENztOMro/s64/photo.jpg",
      "userId": "15300722059085707561"
     },
     "user_tz": 300
    },
    "id": "IfgC2vs_kUVH",
    "outputId": "485a3382-c9c2-425a-b24d-4c0733e5b30d"
   },
   "outputs": [
    {
     "name": "stdout",
     "output_type": "stream",
     "text": [
      "Epoch 1/10\n",
      "18/18 [==============================] - 0s 24ms/step - loss: 16.9343\n",
      "Epoch 2/10\n",
      "18/18 [==============================] - 0s 1ms/step - loss: 12.6612\n",
      "Epoch 3/10\n",
      "18/18 [==============================] - 0s 1ms/step - loss: 9.0863\n",
      "Epoch 4/10\n",
      "18/18 [==============================] - 0s 1ms/step - loss: 6.3682\n",
      "Epoch 5/10\n",
      "18/18 [==============================] - 0s 2ms/step - loss: 4.4169\n",
      "Epoch 6/10\n",
      "18/18 [==============================] - 0s 882us/step - loss: 3.0298\n",
      "Epoch 7/10\n",
      "18/18 [==============================] - 0s 1ms/step - loss: 2.0862\n",
      "Epoch 8/10\n",
      "18/18 [==============================] - 0s 1ms/step - loss: 1.5678\n",
      "Epoch 9/10\n",
      "18/18 [==============================] - 0s 757us/step - loss: 1.2713\n",
      "Epoch 10/10\n",
      "18/18 [==============================] - 0s 1ms/step - loss: 1.1001\n"
     ]
    },
    {
     "data": {
      "text/plain": [
       "<google3.third_party.tensorflow.python.keras.callbacks.History at 0x7f7dd4e5a810>"
      ]
     },
     "execution_count": 19,
     "metadata": {
      "tags": []
     },
     "output_type": "execute_result"
    }
   ],
   "source": [
    "class MyModel(tf.keras.Model):\n",
    "\n",
    "  def __init__(self):\n",
    "    super(MyModel, self).__init__(name='my_model')\n",
    "    self.dense_1 = layers.Dense(20, activation='relu', input_shape=(9,))\n",
    "    self.dense_2 = layers.Dense(1)\n",
    "\n",
    "  def call(self, inputs):\n",
    "    x = self.dense_1(inputs)\n",
    "    return self.dense_2(x)\n",
    "  \n",
    "  \n",
    "model = MyModel()\n",
    "model.compile(loss='mean_squared_error', optimizer='adam')\n",
    "model.fit(X, y, batch_size=2, epochs=10)"
   ]
  },
  {
   "cell_type": "code",
   "execution_count": 0,
   "metadata": {
    "colab": {},
    "colab_type": "code",
    "id": "UF5b3elBkWgI"
   },
   "outputs": [],
   "source": []
  }
 ],
 "metadata": {
  "colab": {
   "name": "Course 3 - Intro to Keras",
   "provenance": [],
   "version": "0.3.2"
  },
  "kernelspec": {
   "display_name": "Python 2",
   "language": "python",
   "name": "python2"
  },
  "language_info": {
   "codemirror_mode": {
    "name": "ipython",
    "version": 2
   },
   "file_extension": ".py",
   "mimetype": "text/x-python",
   "name": "python",
   "nbconvert_exporter": "python",
   "pygments_lexer": "ipython2",
   "version": "2.7.14"
  }
 },
 "nbformat": 4,
 "nbformat_minor": 1
}
