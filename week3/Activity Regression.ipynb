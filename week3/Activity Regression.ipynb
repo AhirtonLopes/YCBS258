{
 "cells": [
  {
   "cell_type": "code",
   "execution_count": 1,
   "metadata": {
    "colab": {
     "height": 34
    },
    "colab_type": "code",
    "executionInfo": {
     "elapsed": 1753,
     "status": "ok",
     "timestamp": 1542137449369,
     "user": {
      "displayName": "Nicolas Feller",
      "photoUrl": "https://lh5.googleusercontent.com/-sC2bAVvYsAc/AAAAAAAAAAI/AAAAAAAAABY/D6sENztOMro/s64/photo.jpg",
      "userId": "15300722059085707561"
     },
     "user_tz": 300
    },
    "id": "ZniK-8PLf7rS",
    "outputId": "2b1196fe-3d8d-46cd-ca05-2b71136dab9f"
   },
   "outputs": [
    {
     "name": "stderr",
     "output_type": "stream",
     "text": [
      "Using TensorFlow backend.\n"
     ]
    }
   ],
   "source": [
    "import numpy as np\n",
    "import matplotlib.pyplot as plt\n",
    "\n",
    "from sklearn.preprocessing import MinMaxScaler\n",
    "from numpy import array\n",
    "\n",
    "from keras.models import Sequential\n",
    "from keras.layers import Dense\n",
    "from keras.optimizers import SGD\n",
    "\n",
    "from sklearn import datasets"
   ]
  },
  {
   "cell_type": "code",
   "execution_count": 0,
   "metadata": {
    "colab": {},
    "colab_type": "code",
    "id": "XO5JB1JrvReE"
   },
   "outputs": [],
   "source": [
    "\n",
    "X, y = datasets.make_regression(n_samples = 100, \n",
    "                                n_features=1, \n",
    "                                noise=20, \n",
    "                                random_state=42)\n",
    "\n",
    "# scalarX, scalarY = MinMaxScaler(), MinMaxScaler()\n",
    "# scalarX.fit(X)\n",
    "# scalarY.fit(y.reshape(100,1))\n",
    "# X = scalarX.transform(X)\n",
    "# y = scalarY.transform(y.reshape(100,1))"
   ]
  },
  {
   "cell_type": "code",
   "execution_count": 3,
   "metadata": {
    "colab": {
     "height": 279
    },
    "colab_type": "code",
    "executionInfo": {
     "elapsed": 423,
     "status": "ok",
     "timestamp": 1542137450916,
     "user": {
      "displayName": "Nicolas Feller",
      "photoUrl": "https://lh5.googleusercontent.com/-sC2bAVvYsAc/AAAAAAAAAAI/AAAAAAAAABY/D6sENztOMro/s64/photo.jpg",
      "userId": "15300722059085707561"
     },
     "user_tz": 300
    },
    "id": "V-yoj7ZdvcJd",
    "outputId": "ad0685d9-33b5-4f73-8fdc-a595b53e4254"
   },
   "outputs": [
    {
     "data": {
      "image/png": "[encoded data removed]",
      "text/plain": [
       "<matplotlib.figure.Figure at 0x7f40547c2350>"
      ]
     },
     "metadata": {
      "tags": []
     },
     "output_type": "display_data"
    }
   ],
   "source": [
    "plt.scatter(X, y)\n",
    "plt.show()"
   ]
  },
  {
   "cell_type": "code",
   "execution_count": 0,
   "metadata": {
    "colab": {},
    "colab_type": "code",
    "id": "ENfFsacb4HBa"
   },
   "outputs": [],
   "source": [
    "model = Sequential()\n",
    "model.add(Dense(8, input_shape=(1,)))\n",
    "model.add(Dense(1))"
   ]
  },
  {
   "cell_type": "code",
   "execution_count": 0,
   "metadata": {
    "colab": {},
    "colab_type": "code",
    "id": "8ly_5VGN4HE7"
   },
   "outputs": [],
   "source": [
    "model.compile(loss='mse', optimizer='sgd')"
   ]
  },
  {
   "cell_type": "code",
   "execution_count": 6,
   "metadata": {
    "colab": {
     "height": 34
    },
    "colab_type": "code",
    "executionInfo": {
     "elapsed": 2047,
     "status": "ok",
     "timestamp": 1542137455100,
     "user": {
      "displayName": "Nicolas Feller",
      "photoUrl": "https://lh5.googleusercontent.com/-sC2bAVvYsAc/AAAAAAAAAAI/AAAAAAAAABY/D6sENztOMro/s64/photo.jpg",
      "userId": "15300722059085707561"
     },
     "user_tz": 300
    },
    "id": "3YnBzplX4HIl",
    "outputId": "8560f395-6ac0-4001-dea6-9347ed2aac24"
   },
   "outputs": [
    {
     "data": {
      "text/plain": [
       "<keras.callbacks.History at 0x7f4054251710>"
      ]
     },
     "execution_count": 6,
     "metadata": {
      "tags": []
     },
     "output_type": "execute_result"
    }
   ],
   "source": [
    "model.fit(X, y, epochs=100, verbose=0)"
   ]
  },
  {
   "cell_type": "code",
   "execution_count": 7,
   "metadata": {
    "colab": {
     "height": 279
    },
    "colab_type": "code",
    "executionInfo": {
     "elapsed": 393,
     "status": "ok",
     "timestamp": 1542137455556,
     "user": {
      "displayName": "Nicolas Feller",
      "photoUrl": "https://lh5.googleusercontent.com/-sC2bAVvYsAc/AAAAAAAAAAI/AAAAAAAAABY/D6sENztOMro/s64/photo.jpg",
      "userId": "15300722059085707561"
     },
     "user_tz": 300
    },
    "id": "tKtkfTRo4Q4D",
    "outputId": "51526f37-7e8d-4820-d4cf-b37fb96cdb7a"
   },
   "outputs": [
    {
     "data": {
      "image/png": "[encoded data removed]",
      "text/plain": [
       "<matplotlib.figure.Figure at 0x7f405368e910>"
      ]
     },
     "metadata": {
      "tags": []
     },
     "output_type": "display_data"
    }
   ],
   "source": [
    "plt.scatter(X, y)\n",
    "test = np.arange(-4,4, 0.2).reshape(40, 1)\n",
    "z = model.predict(test)\n",
    "plt.scatter(test, z, c='r')\n",
    "plt.show()"
   ]
  },
  {
   "cell_type": "code",
   "execution_count": 0,
   "metadata": {
    "colab": {},
    "colab_type": "code",
    "id": "dGYV02MHwnAl"
   },
   "outputs": [],
   "source": []
  }
 ],
 "metadata": {
  "colab": {
   "name": "Course 3 - Activity Regression.ipynb",
   "provenance": [],
   "version": "0.3.2"
  },
  "kernelspec": {
   "display_name": "Python 2",
   "language": "python",
   "name": "python2"
  },
  "language_info": {
   "codemirror_mode": {
    "name": "ipython",
    "version": 2
   },
   "file_extension": ".py",
   "mimetype": "text/x-python",
   "name": "python",
   "nbconvert_exporter": "python",
   "pygments_lexer": "ipython2",
   "version": "2.7.14"
  }
 },
 "nbformat": 4,
 "nbformat_minor": 1
}
