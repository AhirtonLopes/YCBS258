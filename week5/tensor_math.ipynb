{
 "cells": [
  {
   "cell_type": "markdown",
   "metadata": {},
   "source": [
    "# Convolutional Neural Networks"
   ]
  },
  {
   "cell_type": "markdown",
   "metadata": {},
   "source": [
    "## Machine learning on images"
   ]
  },
  {
   "cell_type": "code",
<<<<<<< HEAD
   "execution_count": 1,
=======
   "execution_count": 10,
>>>>>>> 4c521b71a6312a40b9eb015fbb8e789985636a0e
   "metadata": {},
   "outputs": [],
   "source": [
    "import pandas as pd\n",
    "import numpy as np\n",
    "%matplotlib inline\n",
    "import matplotlib.pyplot as plt"
   ]
  },
  {
   "cell_type": "markdown",
   "metadata": {},
   "source": [
    "### Tensor Math"
   ]
  },
  {
   "cell_type": "code",
<<<<<<< HEAD
   "execution_count": 7,
=======
   "execution_count": 13,
>>>>>>> 4c521b71a6312a40b9eb015fbb8e789985636a0e
   "metadata": {},
   "outputs": [],
   "source": [
    "# 2 groups, of 3 groups, of 4 groups, of 5 elements\n",
    "import random\n",
    "random.seed(42)\n",
    "A = np.random.randint(10, size=(2, 3, 4, 5))\n",
    "B = np.random.randint(10, size=(2, 3))"
   ]
  },
  {
   "cell_type": "code",
<<<<<<< HEAD
   "execution_count": 8,
=======
   "execution_count": 14,
>>>>>>> 4c521b71a6312a40b9eb015fbb8e789985636a0e
   "metadata": {},
   "outputs": [
    {
     "data": {
      "text/plain": [
<<<<<<< HEAD
       "array([[[[3, 0, 4, 2, 9],\n",
       "         [6, 2, 5, 1, 2],\n",
       "         [2, 5, 3, 1, 0],\n",
       "         [5, 7, 0, 4, 3]],\n",
       "\n",
       "        [[0, 2, 1, 6, 5],\n",
       "         [7, 6, 3, 0, 1],\n",
       "         [6, 2, 5, 2, 2],\n",
       "         [8, 1, 6, 5, 5]],\n",
       "\n",
       "        [[9, 5, 5, 2, 7],\n",
       "         [1, 7, 9, 7, 7],\n",
       "         [0, 1, 1, 8, 4],\n",
       "         [9, 4, 0, 6, 5]]],\n",
       "\n",
       "\n",
       "       [[[6, 8, 5, 5, 3],\n",
       "         [1, 5, 4, 4, 4],\n",
       "         [6, 2, 0, 2, 8],\n",
       "         [6, 1, 5, 3, 4]],\n",
       "\n",
       "        [[5, 6, 9, 8, 4],\n",
       "         [8, 4, 5, 5, 8],\n",
       "         [4, 3, 7, 9, 4],\n",
       "         [1, 6, 8, 2, 1]],\n",
       "\n",
       "        [[5, 4, 1, 6, 0],\n",
       "         [9, 9, 7, 8, 4],\n",
       "         [5, 9, 3, 0, 6],\n",
       "         [6, 3, 5, 1, 0]]]])"
      ]
     },
     "execution_count": 8,
=======
       "array([[[[5, 2, 6, 9, 0],\n",
       "         [1, 7, 0, 3, 9],\n",
       "         [7, 8, 9, 9, 3],\n",
       "         [8, 3, 9, 1, 8]],\n",
       "\n",
       "        [[9, 2, 6, 0, 5],\n",
       "         [5, 7, 4, 2, 4],\n",
       "         [6, 0, 1, 3, 1],\n",
       "         [9, 7, 7, 8, 5]],\n",
       "\n",
       "        [[4, 9, 7, 1, 9],\n",
       "         [2, 0, 8, 7, 9],\n",
       "         [7, 1, 3, 7, 8],\n",
       "         [1, 8, 3, 6, 3]]],\n",
       "\n",
       "\n",
       "       [[[4, 6, 4, 4, 9],\n",
       "         [6, 3, 7, 9, 0],\n",
       "         [2, 0, 6, 6, 1],\n",
       "         [2, 6, 4, 3, 1]],\n",
       "\n",
       "        [[4, 6, 0, 6, 5],\n",
       "         [1, 0, 1, 5, 3],\n",
       "         [2, 9, 9, 6, 8],\n",
       "         [6, 5, 0, 0, 1]],\n",
       "\n",
       "        [[4, 1, 8, 9, 3],\n",
       "         [2, 2, 2, 5, 6],\n",
       "         [5, 5, 4, 1, 3],\n",
       "         [1, 7, 2, 6, 9]]]])"
      ]
     },
     "execution_count": 14,
>>>>>>> 4c521b71a6312a40b9eb015fbb8e789985636a0e
     "metadata": {},
     "output_type": "execute_result"
    }
   ],
   "source": [
    "A"
   ]
  },
  {
   "cell_type": "code",
<<<<<<< HEAD
   "execution_count": 9,
=======
   "execution_count": 6,
>>>>>>> 4c521b71a6312a40b9eb015fbb8e789985636a0e
   "metadata": {},
   "outputs": [
    {
     "data": {
      "text/plain": [
       "(120,)"
      ]
     },
<<<<<<< HEAD
     "execution_count": 9,
=======
     "execution_count": 6,
>>>>>>> 4c521b71a6312a40b9eb015fbb8e789985636a0e
     "metadata": {},
     "output_type": "execute_result"
    }
   ],
   "source": [
    "A.flatten().shape"
   ]
  },
  {
   "cell_type": "code",
<<<<<<< HEAD
   "execution_count": 10,
=======
   "execution_count": 8,
>>>>>>> 4c521b71a6312a40b9eb015fbb8e789985636a0e
   "metadata": {},
   "outputs": [
    {
     "data": {
      "text/plain": [
<<<<<<< HEAD
       "6"
      ]
     },
     "execution_count": 10,
=======
       "8"
      ]
     },
     "execution_count": 8,
>>>>>>> 4c521b71a6312a40b9eb015fbb8e789985636a0e
     "metadata": {},
     "output_type": "execute_result"
    }
   ],
   "source": [
    "A[0, 1, 0, 3]"
   ]
  },
  {
   "cell_type": "code",
<<<<<<< HEAD
   "execution_count": 11,
=======
   "execution_count": 7,
>>>>>>> 4c521b71a6312a40b9eb015fbb8e789985636a0e
   "metadata": {},
   "outputs": [
    {
     "data": {
      "text/plain": [
<<<<<<< HEAD
       "array([[8, 5, 8],\n",
       "       [5, 5, 6]])"
      ]
     },
     "execution_count": 11,
=======
       "array([[0, 0, 5],\n",
       "       [0, 3, 1]])"
      ]
     },
     "execution_count": 7,
>>>>>>> 4c521b71a6312a40b9eb015fbb8e789985636a0e
     "metadata": {},
     "output_type": "execute_result"
    }
   ],
   "source": [
    "B"
   ]
  },
  {
   "cell_type": "markdown",
   "metadata": {},
   "source": [
    "#### A random colored image"
   ]
  },
  {
   "cell_type": "code",
<<<<<<< HEAD
   "execution_count": 13,
=======
   "execution_count": 15,
>>>>>>> 4c521b71a6312a40b9eb015fbb8e789985636a0e
   "metadata": {},
   "outputs": [
    {
     "name": "stdout",
     "output_type": "stream",
     "text": [
<<<<<<< HEAD
      "(array([[[232, 181, 131],\n",
      "        [117,  11, 102],\n",
      "        [ 99, 218, 196],\n",
      "        [  2,  24,  19]],\n",
      "\n",
      "       [[153, 173, 192],\n",
      "        [ 57,  12,  33],\n",
      "        [221,  88,  22],\n",
      "        [119, 163,  43]],\n",
      "\n",
      "       [[ 70, 224,  36],\n",
      "        [ 47, 223, 166],\n",
      "        [193, 238, 216],\n",
      "        [246, 160, 136]],\n",
      "\n",
      "       [[ 15, 181, 230],\n",
      "        [102, 199, 155],\n",
      "        [ 67, 155, 155],\n",
      "        [226, 220, 113]]], dtype=uint8), (4, 4, 3))\n"
=======
      "(array([[[  8,  89, 191],\n",
      "        [ 37,  54,  55],\n",
      "        [ 27, 252, 122],\n",
      "        [ 24, 191, 234]],\n",
      "\n",
      "       [[  8,  93,  64],\n",
      "        [214, 224, 165],\n",
      "        [ 50, 240, 196],\n",
      "        [196,  19, 249]],\n",
      "\n",
      "       [[205, 159,  15],\n",
      "        [ 42,  18,  27],\n",
      "        [109,  12, 230],\n",
      "        [ 26, 148, 143]],\n",
      "\n",
      "       [[215, 186, 118],\n",
      "        [227, 139,  32],\n",
      "        [248, 206, 112],\n",
      "        [  8,  86,  70]]], dtype=uint8), (4, 4, 3))\n"
>>>>>>> 4c521b71a6312a40b9eb015fbb8e789985636a0e
     ]
    }
   ],
   "source": [
    "img = np.random.randint(255, size=(4, 4, 3), dtype='uint8')\n",
    "print(img, img.shape)"
   ]
  },
  {
   "cell_type": "code",
<<<<<<< HEAD
   "execution_count": 15,
=======
   "execution_count": 17,
>>>>>>> 4c521b71a6312a40b9eb015fbb8e789985636a0e
   "metadata": {},
   "outputs": [
    {
     "data": {
      "text/plain": [
<<<<<<< HEAD
       "array([[232, 117,  99,   2],\n",
       "       [153,  57, 221, 119],\n",
       "       [ 70,  47, 193, 246],\n",
       "       [ 15, 102,  67, 226]], dtype=uint8)"
      ]
     },
     "execution_count": 15,
=======
       "array([[  8,  37,  27,  24],\n",
       "       [  8, 214,  50, 196],\n",
       "       [205,  42, 109,  26],\n",
       "       [215, 227, 248,   8]], dtype=uint8)"
      ]
     },
     "execution_count": 17,
>>>>>>> 4c521b71a6312a40b9eb015fbb8e789985636a0e
     "metadata": {},
     "output_type": "execute_result"
    }
   ],
   "source": [
    "img[:, : , 0]"
   ]
  },
  {
   "cell_type": "code",
<<<<<<< HEAD
   "execution_count": 16,
=======
   "execution_count": 18,
>>>>>>> 4c521b71a6312a40b9eb015fbb8e789985636a0e
   "metadata": {},
   "outputs": [
    {
     "data": {
      "text/plain": [
       "Text(0.5,1,'Blue channel')"
      ]
     },
<<<<<<< HEAD
     "execution_count": 16,
=======
     "execution_count": 18,
>>>>>>> 4c521b71a6312a40b9eb015fbb8e789985636a0e
     "metadata": {},
     "output_type": "execute_result"
    },
    {
     "data": {
<<<<<<< HEAD
      "image/png": "iVBORw0KGgoAAAANSUhEUgAAATMAAAE/CAYAAAAqmiQlAAAABHNCSVQICAgIfAhkiAAAAAlwSFlzAAALEgAACxIB0t1+/AAAADl0RVh0U29mdHdhcmUAbWF0cGxvdGxpYiB2ZXJzaW9uIDIuMi4zLCBodHRwOi8vbWF0cGxvdGxpYi5vcmcvIxREBQAAHf5JREFUeJzt3XuYHHWd7/H3J5MJCZlICIRbEi6CouAl4JzALsiisIeIIOye1QUFwQsc5LjiLu6K6y6CynHX9Sg83hAEoguKCCyyitxWEFEIBgQkBtiAgYRbmNwDCZDke/6oGu10ZtI1M9VdnV9/Xs8zz3R3Vdf3113f/nR19aUUEZiZbelGVT0AM7MyOMzMLAkOMzNLgsPMzJLgMDOzJDjMzCwJTQszSbMkfT4/faikRWUsq51IWiDp8KrHMRBJt0v68CDTdpW0WlJXE+qeI+nyspe7pZMUkvYa4nVG9LhplnZdxyMOs/xBs0zSViNYhiR9TNJDkl6QtEjSDyW9caTjs01FxJMR0RMR66seS7vKn6jW5KH/bP6E2lP1uGxwIwozSbsDbwUCeNcIFnUBcAbwMWAS8FrgOuCdIxmf2QgdHRE9wHRgP+BTFY/HNmOkW2bvB+4GZgEnDWcBkl4D/B/g+Ij4WUS8FBEvRsQVEfEvNbNuK+knklZJmi1pz5plXCBpoaSVku6V9NaaaedIukrSd/PrzpXUWzN9gaRPSHpQ0gpJP5A0tmb6UZLul7Rc0q8kvWmQ2zFD0px8DM9J+vJmbvMx+TJXSnpM0sz88l0kXS9pqaT5kk6pux0/lHR5fjt+K+m1kj4laXF++/9nXak9Jd2T364fSZqUL2v3/GXP6Pz87ZI+J+mX+bJvlrR9Te0D89u+XNIDkg6tmbaHpJ/n17sF2J7ERMSzwE1koQaApK0kfUnSk/n6vlDSuJrpfy/pGUlPS/rg5pYvaZKky/J5l0m6rm76mfk6fkbSB2ouf6ek3+R9tFDSOTXT+tfxSfkY+yR9umZ6o8fFLpKukfS8pN9L+tgw777WiYhh/wHzgdOBtwCvADvWTJsFfD4/fSiwaJBlnAY80aDOLGApMAMYDVwBXFkz/QRgu3zamcCzwNh82jnAWuBIoAv4AnB3zXUXAPcAu5BtFc4DTsun7Q8sBg7Ir3tSPv9WNdc9PD99F3BifroHOHCQ2zIDWAH8OdmTyRTgdfm0nwPfAMaSPXCeBw6rux1H5Lfzu8DvgU8D3cApwO9r6twOPAW8ARgPXANcnk/bnWxrenTNvI+RbRGPy8//Sz5tCrAkv/9G5eNeAkyuud1fBrYCDgFW9dfZkv/q1u1U4LfABTXTzweuz3tmAvCfwBfyaTOB52ru++/l9/deg9T6CfADYNt8Xf5ZzeNmHfDZ/PIjgReBbWumvzFfL2/Kax5bt44vztfpm4GXgNc3elzky7sXOBsYA7waeBw4oua6bbeOR7KyDyYLsO3z8w8Df1szfRbFwuzT1ITLIPPMAr5dc/5I4OHNzL8MeHPNHX9rzbR9gDV1TXtCzfkvAhfmp78JfK5u2Y/UNFttw98BnNt/f2xmbN8CvjLA5dOA9cCEmsu+AMyquR231Ew7GlgNdOXnJ+TNOzE/fzt5INXc7pfzxu1v9Now+6eaeU8HbsxPfxL497qx3kQW7LuSPdjG10z7Xjs2+jD6e0F+/67K76v/qrlvBbwA7Fkz/5+QP5kAl9bd969lkDADdgY2kAdU3bRDgTX96ym/bDGDP1Ge399bNet4as30e4DjGj0uyJ68n6xb9qeAy2qu23breCQvM08Cbo6Ivvz89xjeS80lZCu0kWdrTr9ItvUD/GEzfF7+cmo5sA0bv9ypv+7Y/pdYDZa9G3Bm/vJqeb7saWRbcfU+RNa0D0v6taSjBrkd08i2gurtAiyNiFU1lz1BtmXU77ma02uAvvjjTvw1+f/andQL65bVzeAvAzd3H7y77j44mGyd7QIsi4gX6uqk4tiImEAWKq/jj/fdZGBr4N6a++TG/HLI7pf6+34w08jW+7JBpi+JiHU15/+wbiQdIOm2/KXgCrJXOfXrd9DHzQDT+h8XuwG71K3zfwR23MztqNzoxrNsKt838B6gS1L/HbIVMFHSmyPigSEs7r+Ar0vqjYg5wxjLW8m2Hg4D5kbEBknLyJ49R2ohcF5EnNdoxoj4b+B4SaOAvwSulrRd3QO9f5l7brIAeBqYJGlCTaDtSvZScbim1ZzelWxLuq/u8kYWkm2ZnVI/QdJuZPsyx9fczl3JtgiSERE/lzQL+BJwLNl9uAbYNyIGWj/PsOl9P5iFZOt9YkQsH+LQvgd8DXhHRKyVdD7l7LNcSLaV+ZoSltUyw90yO5bsJdE+ZPt2pgOvB35B9qZAYXkIfAP4vrLP1YyRNFbScZLOKrCICWQvdZ4HRks6G3jVUMawGRcDp+XPgJI0Pt/pOqF+RkknSJocERuA/qYc6KMPlwAfkHSYpFGSpkh6XUQsBH4FfCG//W8i29q7YgTjP0HSPpK2JtvvcnUM/eMYlwNHSzpCUlc+tkMlTY2IJ4A5wLn5ejuY7OVvis4H/lzS9HwdXwx8RdIOAPl6PCKf9yrg5Jr7/jODLTQingF+CnxD0raSuiUdUnBME8i26tZKmgG8d5i3rd49wEpJn5Q0Ll/vb5D0P0paflMMN8xOInv9/GREPNv/R/Ys8b66l3BFfCy/7tfJguAx4C/Idqo2chNZMzxKtjm/lo038Yct31I8JR/bMrI3PE4eZPaZwFxJq8k+anJcRKwdYJn3AB8AvkL2RsDPyTbrAY4n29fxNPAfwGci4pYR3IR/J9vf+CzZmwpDfkcqD9ljyF5mPE923/49f+yd95LtY1lK9qD97gjG27Yi4nmy2/bP+UWfJOuHuyWtBG4F9s7n/SlZ+P0sn+dnDRZ/ItlW88Nk+8Q+XnBYpwOflbSKbGf9VUVvz+bkT3hHk22k/J5sS/TbZLtv2pbyHXpmZls0fzfTzJLgMDOzJDjMzCwJDjMzS4LDzMySMKwPzTay3TbjY+oOE5ux6Iaee/zlSuoCrN9nu8pq9z08v5rC6zcQGzaU8QHlwsZrVExUNc/DO+2wyUcMW6e7u7LSmjyl8UxNsODJJ+nrW1Kov5oSZlN3mMjNF3ykGYtu6P+9p5SPmA3L0muH9HnhUl12yDGV1N3QN9QPrY/cRI3itO5qQuVTJxxWSV0AdtqpstKjT2/4JZim6D340MLz+mWmmSXBYWZmSXCYmVkSHGZmlgSHmZklwWFmZklwmJlZEhxmZpYEh5mZJcFhZmZJKBRmkmZKekTZgWmL/C6/WWHuLytDwzCT1EX22/zvIDuAyfGS9mn2wKwzuL+sLEW2zGYA8yPi8Yh4GbiS7AAXZmVwf1kpioTZFDY+2tEiNj4wLQCSTpU0R9KcpSvqDxVpNqgh99cLsaFlg7MtR5EwG+i3hDY5pFNEXBQRvRHRO2mb8SMfmXWKIffX+Ip+y8zaW5GuWMTGR2eeSnZcR7MyuL+sFEXC7NfAayTtIWkMcBxwfXOHZR3E/WWlaPhLsxGxTtJHyY4c3gVcGhFzmz4y6wjuLytLoZ/NjogbgBuaPBbrUO4vK4P3pJpZEhxmZpYEh5mZJcFhZmZJcJiZWRIcZmaWBIeZmSXBYWZmSXCYmVkSHGZmloRCX2caquXRw4/WvrUZi27oTn2gkroAl599XWW1t/+3nSqp+52zW//bdTuMH8Pf7Det8YxNoGOOq6QuwCVHnlZZ7Q8+9VQldeOpBYXn9ZaZmSXBYWZmSXCYmVkSHGZmlgSHmZklwWFmZklwmJlZEhxmZpYEh5mZJcFhZmZJcJiZWRIahpmkSyUtlvRQKwZkncc9ZmUosmU2C5jZ5HFYZ5uFe8xGqGGYRcQdwNIWjMU6lHvMylDaPjNJp0qaI2nO6hUrylqsGbBxf/W9sq7q4VgbKi3MIuKiiOiNiN6ebbYpa7FmwMb9tX13U36Gz7ZwfjfTzJLgMDOzJBT5aMb3gbuAvSUtkvSh5g/LOol7zMrQcOdDRBzfioFY53KPWRn8MtPMkuAwM7MkOMzMLAkOMzNLgsPMzJLgMDOzJDjMzCwJDjMzS4LDzMyS4DAzsyQ05bdUlm/9BNe85cPNWHRDL/72vErqAizaZv/Kan/m+usqqXtzfLXlNbt2nMyET3yk5XUB1FPdz1vtPW6rymp/9PxbK6n7JC8WntdbZmaWBIeZmSXBYWZmSXCYmVkSHGZmlgSHmZklwWFmZklwmJlZEhxmZpYEh5mZJaHIoeamSbpN0jxJcyWd0YqBWWdwf1lZinw3cx1wZkTcJ2kCcK+kWyLid00em3UG95eVouGWWUQ8ExH35adXAfOAKc0emHUG95eVZUj7zCTtDuwHzG7GYKyzub9sJAqHmaQe4Brg4xGxcoDpp0qaI2nOy0vXlzlG6wBD6a/nV65u/QCt7RUKM0ndZI12RURcO9A8EXFRRPRGRO+YSV1ljtESN9T+mvyqntYO0LYIRd7NFHAJMC8ivtz8IVkncX9ZWYpsmR0EnAi8XdL9+d+RTR6XdQ73l5Wi4UczIuJOQC0Yi3Ug95eVxd8AMLMkOMzMLAkOMzNLgsPMzJLgMDOzJDjMzCwJDjMzS4LDzMyS4DAzsyQ4zMwsCQ4zM0tCkZ/NHrIX1uzN7Lk3NmPRDf31pJ9UUhfgs7f+orLal73tuUrqrut5pfVFe7Zh1EFHt74usP7iz1dSF+DgWedUVvvevzqrkrpj164pPK+3zMwsCQ4zM0uCw8zMkuAwM7MkOMzMLAkOMzNLgsPMzJLgMDOzJDjMzCwJDjMzS0KRgwCPlXSPpAckzZV0bisGZp3B/WVlKfLdzJeAt0fEakndwJ2SfhoRdzd5bNYZ3F9WiiIHAQ5gdX62O/+LZg7KOof7y8pSaJ+ZpC5J9wOLgVsiYnZzh2WdxP1lZSgUZhGxPiKmA1OBGZLeUD+PpFMlzZE0Z8OKJWWP0xI21P56fsnS1g/S2t6Q3s2MiOXA7cDMAaZdFBG9EdE7apvtShqedZKi/TV5u0ktH5u1vyLvZk6WNDE/PQ44HHi42QOzzuD+srIUeTdzZ+A7krrIwu+qiPhxc4dlHcT9ZaUo8m7mg8B+LRiLdSD3l5XF3wAwsyQ4zMwsCQ4zM0uCw8zMkuAwM7MkOMzMLAkOMzNLgsPMzJLgMDOzJDjMzCwJDjMzS4KyH/oseaHS88ATw7z69kBficNx7ebW3i0iJpc5mEbcXx1Vu3B/NSXMRkLSnIjode3OqN1qnXo/d0Jtv8w0syQ4zMwsCe0YZhe5dkfVbrVOvZ+Tr912+8zMzIajHbfMzMyGrK3CTNJMSY9Imi/prBbWvVTSYkkPtapmXneapNskzZM0V9IZLaw9VtI9kh7Ia5/bqtpV6bT+ymtX0mOV9FdEtMUf0AU8BrwaGAM8AOzTotqHAPsDD5W4zAXA4Q3m2RnYPz89AXi0mbcZ2J3saOGjAQE9+eXdwGzgwKr7oN37C5gFfL6V/VWkl1rdY7W9NMj0lvdXO22ZzQDmR8TjEfEycCVwjKTjJM2W9EL+7DZb0umSVFbhiLgDaPmRZSPimYi4Lz+9CpgHTGlR7YiI1fnZ7vwv5R2oA/ZX/UySFkhaI2m1pGWSfiJp2kgKV9Vfee1KeqyK/mqnMJsCLKw5vwh4J3AB8G/ATsCOwGnAQWTPrpvID1m2xZG0O9lRima3sGaXpPuBxcAtEdGy2hUYqL8Ge1AfHRE9ZFs1zwFfbfLYWqLVPdbq/mqnMKvf0hoHHACcHhFXR8SqPO1/ExHvi4iXACTNkvRNSTdIegF4m6StJH1J0pOSnpN0YX6AWfLrHCXpfknLJf1K0ptqpi2Q9AlJD0paIekHksYOOmjplHx/xCpJv5O0f83k6QMtR9K2kn4s6fn82f+nwPXAxyNipaTbJX1O0i/z5d4safv8urtLCkkn5bevT9Kna8YzStJZkh6TtETSVZIGPAR4RKyPiOnAVGCGpDcUWlNbpoG25De7pRARa4GrgX0GXKB0sqQ76y4LSXvlp//Qh8CvgV1q+3CA5ZXRSz+WNLVmmf29dBfZy+yl5BsCZfbSIPdfS/urncJsEVC7OX8g2fh+VOC67wXOI9sncCfwr8BrgenAXmTPwGcD5A1yKfC/ge2Ab5EFSe2W3nuAmcAewJuAkwcqKundwDnA+4FXAe8ClhRYzijgMmA3sn04+5F9TObautv0AWCHfGyfqCt/MLA3cBhwtqTX55d/DDgW+DNgF2AZ8PWBxt8vIpYDt+djTVV9f00Fnt7cFSRtDfw1cPcwa9b24aFk+yrPHqRWGb20K7AG+Frd4t8LrAM+BSynib00kJb1VzN3yA1xh+Jo4HGylTWG7IvEfXXz/IpsZawBDok/7pD9bt2OxxeAPWsu+xPg9/npbwKfq1vuI2RN+xDZztYTaqZ9EbhwkDHfBJwxyLSGy8nH+l3gCmBZzeW3A/9Uc/504MbYeMfr1Jrp9wDH5afnAYfVTNsZeCW/f/uvOxqYDEzM5xkH/AI4quo+aGF/PQDsO8h6W5332TqywHtjzfRZ5G8AkAXKnXXXD7In0I36ML/vH+vvw7J7qWba9AF66TfA+c3qpUHG0fL+anhE81aJiHWSPkq2UruA24ATJI2OiHX5PH8KIGkRG29V1u4LmQxsDdxb8x6B8mVC9gx2kqS/qblOD3Bh/l9kDXF5Pu1FsmelgUwja9DBPFtz+g/LyZ/xv0K2A3pHYAMwKt+/8I+DXLenwbL7p+8G/IekDTXT1+d1au0MfCffxzgKuCoifryZ27JFG6C/Lo2IuYPMfmxE3JrfN8cAP5e0T0Q8O8j8A6ntw6354zvIIelDEXFJ3fwj7aWZwLb59AmSuiJiPbANWT/377+aBKxqsOyh9tJAWt5fbRNmABFxA3ADgKSJwLvJmumaRletOd1HtuW2b0Q8NcC8C4HzIuK8gRYkaQFwY8EhLwT2LDhvrTPJNuunR8SzkqaTPXv25g+6fxjGMmvH9MGI+GX9BGU7gAGIiAfJXt52jNr+Kjj/euBaSd8ieyl2dd0sL5AFFgCSdqqZ1qgP6420lw6o66X+Z/IVwCkR8e18jCcDHy647EK9NJAq+qud9pltJLLX2ecC35D0V5J68h2S04Hxm7neBuBi4CuSdgCQNEXSEfksFwOnSTpAmfGS3ilpwjCG+W3gE5Leki9rL0m7FbjeBLJGX57vUP3MMGoP5kLgvP5xSJosaZOPIFhj+To9hmyLZ94AszwA7Ctper5D/pz+CQX6sJ57aYTaNswAIuKLwN8B/0D29u5zZDvsP0m2/2wwnwTmA3dLWgncSvbsRUTMAU4h20m6LJ/v5GGO74dkbzx8j2zT/TqyzfhGzifbj9BHtnO56JZgEReQvaFxs6RV+fIPKHH5neA/Ja0GVpKt35MGekkaEY8CnyXrr/8me/Op1qB9OMCy3Esj5C+am1kS2nrLzMysKIeZmSXBYWZmSXCYmVkSHGZmloSmfGi2a/yY6J406Hezm2rfHfeqpC7AfQt+V1nt6bu9rpK6Tz6xkCV9S0r7OaYixk7YNnomD/aljOYav1V1P8ry1OLVjWdqkjfvXvj75aV64okF9PX1FeqvpoRZ96SxTD3jwGYsuqFf/u11ldQFGPfh6j5Qf9uFt1ZS921/enjLa/ZM3oV3/d8rW14XYMZuw/lsdTnO+lr9x9ha55ffOaGSugcdUPxwm36ZaWZJcJiZWRIcZmaWBIeZmSXBYWZmSXCYmVkSHGZmlgSHmZklwWFmZklwmJlZEgqFmaSZkh6RNF/SWc0elHUW95eVoWGY5YeK+jrwDrIjOx8vacAjPJsNlfvLylJky2wGMD8iHo+Il4EryQ7/ZlYG95eVokiYTWHjg+wuyi8zK4P7y0pRJMwG+i2hTQ7pJOlUSXMkzVm/+pWRj8w6xZD7a+2qZS0Ylm1pioTZIrJDx/ebCjxdP1NEXBQRvRHR29XTXdb4LH1D7q+xE7Zt2eBsy1EkzH4NvEbSHpLGAMeRHRjUrAzuLytFw1+ajYh1kj4K3AR0AZcOdHRns+Fwf1lZCv1sdkTcANzQ5LFYh3J/WRn8DQAzS4LDzMyS4DAzsyQ4zMwsCQ4zM0uCw8zMkuAwM7MkOMzMLAkOMzNLgsPMzJJQ6OtMQyWNYuy4Mc1YdEMRm/x6TMtc/c/nVFb7iO9/pJK6jy59suU1l69cw/U3VvP1zX/96v+qpC7AiZe9r7Laz61YW0ndV9YXfzx7y8zMkuAwM7MkOMzMLAkOMzNLgsPMzJLgMDOzJDjMzCwJDjMzS4LDzMyS4DAzsyQ4zMwsCQ3DTNKlkhZLeqgVA7LO4x6zMhTZMpsFzGzyOKyzzcI9ZiPUMMwi4g5gaQvGYh3KPWZl8D4zM0tCaWEm6VRJcyTNWb/65bIWawZs3F+xdlXVw7E2VFqYRcRFEdEbEb1dPdX8MKOlq7a/NHZC1cOxNuSXmWaWhCIfzfg+cBewt6RFkj7U/GFZJ3GPWRkaHgMgIo5vxUCsc7nHrAx+mWlmSXCYmVkSHGZmlgSHmZklwWFmZklwmJlZEhxmZpYEh5mZJcFhZmZJcJiZWRIafp1pONauXsvcXzzcjEU3tPWdb66kLgB9aysrfeD7D6qkriqoue+0bbnpgr+soDIc/qU7KqkL8Ogdd1VW+y8+eFQldZ9asabwvN4yM7MkOMzMLAkOMzNLgsPMzJLgMDOzJDjMzCwJDjMzS4LDzMyS4DAzsyQ4zMwsCQ4zM0tCkeNmTpN0m6R5kuZKOqMVA7PO4P6yshT5ovk64MyIuE/SBOBeSbdExO+aPDbrDO4vK0XDLbOIeCYi7stPrwLmAVOaPTDrDO4vK8uQ9plJ2h3YD5g9wLRTJc2RNIeX1pczOusoRftryZK+Vg/NtgCFw0xSD3AN8PGIWFk/PSIuiojeiOhlq64yx2gdYCj9td1227d+gNb2CoWZpG6yRrsiIq5t7pCs07i/rAxF3s0UcAkwLyK+3PwhWSdxf1lZimyZHQScCLxd0v3535FNHpd1DveXlaLhRzMi4k6q+al36wDuLyuLvwFgZklwmJlZEhxmZpYEh5mZJcFhZmZJcJiZWRIcZmaWBIeZmSXBYWZmSXCYmVkSivzS7JBtNX4MU3tf3YxFN/Rc37JK6gLsf+zeldW+4yf3VFN45YstL/nbRxayx6F/1/K6AL0nHFdJXYDeow6trPbeO46vpO7t3cV/TsxbZmaWBIeZmSXBYWZmSXCYmVkSHGZmlgSHmZklwWFmZklwmJlZEhxmZpYEh5mZJcFhZmZJKHIQ4LGS7pH0gKS5ks5txcCsM7i/rCxFvmj+EvD2iFgtqRu4U9JPI+LuJo/NOoP7y0pR5CDAAazOz3bnf9HMQVnncH9ZWQrtM5PUJel+YDFwS0TMHmCeUyXNkTRn/epXyh6nJWyo/RXr1rR+kNb2CoVZRKyPiOnAVGCGpDcMMM9FEdEbEb1dPd1lj9MSNtT+0uhxrR+ktb0hvZsZEcuB24GZTRmNdTT3l41EkXczJ0uamJ8eBxwOPNzsgVlncH9ZWYq8m7kz8B1JXWThd1VE/Li5w7IO4v6yUhR5N/NBYL8WjMU6kPvLyuJvAJhZEhxmZpYEh5mZJcFhZmZJcJiZWRIcZmaWBIeZmSXBYWZmSXCYmVkSHGZmlgRlv41X8kKl54Enhnn17YG+Eofj2s2tvVtETC5zMI24vzqqduH+akqYjYSkORHR69qdUbvVOvV+7oTafplpZklwmJlZEtoxzC5y7Y6q3Wqdej8nX7vt9pmZmQ1HO26ZmZkNWVuFmaSZkh6RNF/SWS2se6mkxZIealXNvO40SbdJmpcfzfuMFtbuuCOJd1p/5bUr6bFK+isi2uIP6AIeA14NjAEeAPZpUe1DgP2Bh1p8m3cG9s9PTwAebeFtFtCTn+4GZgMHVt0HTby9Hddfee1KeqyK/mqnLbMZwPyIeDwiXgauBI5pReGIuANY2opadXWfiYj78tOrgHnAlBbVjojopCOJd1x/5bUr6bEq+qudwmwKsLDm/CJa9MBuB5J2JzuwxyZH825izYZHEk9IR/cXtL7HWt1f7RRmGuCylLcU/kBSD3AN8PGIWNmqulHgSOIJ6dj+gmp6rNX91U5htgiYVnN+KvB0RWNpGUndZE12RURcW8UYojOOJN6R/QXV91ir+qudwuzXwGsk7SFpDHAccH3FY2oqSQIuAeZFxJdbXLvTjiTecf0F1fVYFf3VNmEWEeuAjwI3ke2kvCoi5raitqTvA3cBe0taJOlDragLHAScCLxd0v3535Etqr0zcJukB8ke6LdEwkcS79D+gup6rOX95W8AmFkS2mbLzMxsJBxmZpYEh5mZJcFhZmZJcJiZWRIcZmaWBIeZmSXBYWZmSfj/pvaUO1l5j+QAAAAASUVORK5CYII=\n",
=======
      "image/png": "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\n",
>>>>>>> 4c521b71a6312a40b9eb015fbb8e789985636a0e
      "text/plain": [
       "<Figure size 360x360 with 4 Axes>"
      ]
     },
     "metadata": {},
     "output_type": "display_data"
    }
   ],
   "source": [
    "plt.figure(figsize=(5, 5))\n",
    "plt.subplot(221)\n",
    "plt.imshow(img)\n",
    "plt.title(\"All Channels combined\")\n",
    "\n",
    "plt.subplot(222)\n",
    "plt.imshow(img[:, : , 0], cmap='Reds')\n",
    "plt.title(\"Red channel\")\n",
    "\n",
    "plt.subplot(223)\n",
    "plt.imshow(img[:, : , 1], cmap='Greens')\n",
    "plt.title(\"Green channel\")\n",
    "\n",
    "plt.subplot(224)\n",
    "plt.imshow(img[:, : , 2], cmap='Blues')\n",
    "plt.title(\"Blue channel\")"
   ]
  },
  {
   "cell_type": "markdown",
   "metadata": {},
   "source": [
    "### Tensor operations"
   ]
  },
  {
   "cell_type": "code",
<<<<<<< HEAD
   "execution_count": 17,
=======
   "execution_count": 19,
>>>>>>> 4c521b71a6312a40b9eb015fbb8e789985636a0e
   "metadata": {},
   "outputs": [
    {
     "data": {
      "text/plain": [
<<<<<<< HEAD
       "array([[[[ 6,  0,  8,  4, 18],\n",
       "         [12,  4, 10,  2,  4],\n",
       "         [ 4, 10,  6,  2,  0],\n",
       "         [10, 14,  0,  8,  6]],\n",
       "\n",
       "        [[ 0,  4,  2, 12, 10],\n",
       "         [14, 12,  6,  0,  2],\n",
       "         [12,  4, 10,  4,  4],\n",
       "         [16,  2, 12, 10, 10]],\n",
       "\n",
       "        [[18, 10, 10,  4, 14],\n",
       "         [ 2, 14, 18, 14, 14],\n",
       "         [ 0,  2,  2, 16,  8],\n",
       "         [18,  8,  0, 12, 10]]],\n",
       "\n",
       "\n",
       "       [[[12, 16, 10, 10,  6],\n",
       "         [ 2, 10,  8,  8,  8],\n",
       "         [12,  4,  0,  4, 16],\n",
       "         [12,  2, 10,  6,  8]],\n",
       "\n",
       "        [[10, 12, 18, 16,  8],\n",
       "         [16,  8, 10, 10, 16],\n",
       "         [ 8,  6, 14, 18,  8],\n",
       "         [ 2, 12, 16,  4,  2]],\n",
       "\n",
       "        [[10,  8,  2, 12,  0],\n",
       "         [18, 18, 14, 16,  8],\n",
       "         [10, 18,  6,  0, 12],\n",
       "         [12,  6, 10,  2,  0]]]])"
      ]
     },
     "execution_count": 17,
=======
       "array([[[[10,  4, 12, 18,  0],\n",
       "         [ 2, 14,  0,  6, 18],\n",
       "         [14, 16, 18, 18,  6],\n",
       "         [16,  6, 18,  2, 16]],\n",
       "\n",
       "        [[18,  4, 12,  0, 10],\n",
       "         [10, 14,  8,  4,  8],\n",
       "         [12,  0,  2,  6,  2],\n",
       "         [18, 14, 14, 16, 10]],\n",
       "\n",
       "        [[ 8, 18, 14,  2, 18],\n",
       "         [ 4,  0, 16, 14, 18],\n",
       "         [14,  2,  6, 14, 16],\n",
       "         [ 2, 16,  6, 12,  6]]],\n",
       "\n",
       "\n",
       "       [[[ 8, 12,  8,  8, 18],\n",
       "         [12,  6, 14, 18,  0],\n",
       "         [ 4,  0, 12, 12,  2],\n",
       "         [ 4, 12,  8,  6,  2]],\n",
       "\n",
       "        [[ 8, 12,  0, 12, 10],\n",
       "         [ 2,  0,  2, 10,  6],\n",
       "         [ 4, 18, 18, 12, 16],\n",
       "         [12, 10,  0,  0,  2]],\n",
       "\n",
       "        [[ 8,  2, 16, 18,  6],\n",
       "         [ 4,  4,  4, 10, 12],\n",
       "         [10, 10,  8,  2,  6],\n",
       "         [ 2, 14,  4, 12, 18]]]])"
      ]
     },
     "execution_count": 19,
>>>>>>> 4c521b71a6312a40b9eb015fbb8e789985636a0e
     "metadata": {},
     "output_type": "execute_result"
    }
   ],
   "source": [
    "2 * A"
   ]
  },
  {
   "cell_type": "code",
<<<<<<< HEAD
   "execution_count": 18,
=======
   "execution_count": 20,
>>>>>>> 4c521b71a6312a40b9eb015fbb8e789985636a0e
   "metadata": {},
   "outputs": [
    {
     "data": {
      "text/plain": [
<<<<<<< HEAD
       "array([[[[ 6,  0,  8,  4, 18],\n",
       "         [12,  4, 10,  2,  4],\n",
       "         [ 4, 10,  6,  2,  0],\n",
       "         [10, 14,  0,  8,  6]],\n",
       "\n",
       "        [[ 0,  4,  2, 12, 10],\n",
       "         [14, 12,  6,  0,  2],\n",
       "         [12,  4, 10,  4,  4],\n",
       "         [16,  2, 12, 10, 10]],\n",
       "\n",
       "        [[18, 10, 10,  4, 14],\n",
       "         [ 2, 14, 18, 14, 14],\n",
       "         [ 0,  2,  2, 16,  8],\n",
       "         [18,  8,  0, 12, 10]]],\n",
       "\n",
       "\n",
       "       [[[12, 16, 10, 10,  6],\n",
       "         [ 2, 10,  8,  8,  8],\n",
       "         [12,  4,  0,  4, 16],\n",
       "         [12,  2, 10,  6,  8]],\n",
       "\n",
       "        [[10, 12, 18, 16,  8],\n",
       "         [16,  8, 10, 10, 16],\n",
       "         [ 8,  6, 14, 18,  8],\n",
       "         [ 2, 12, 16,  4,  2]],\n",
       "\n",
       "        [[10,  8,  2, 12,  0],\n",
       "         [18, 18, 14, 16,  8],\n",
       "         [10, 18,  6,  0, 12],\n",
       "         [12,  6, 10,  2,  0]]]])"
      ]
     },
     "execution_count": 18,
=======
       "array([[[[10,  4, 12, 18,  0],\n",
       "         [ 2, 14,  0,  6, 18],\n",
       "         [14, 16, 18, 18,  6],\n",
       "         [16,  6, 18,  2, 16]],\n",
       "\n",
       "        [[18,  4, 12,  0, 10],\n",
       "         [10, 14,  8,  4,  8],\n",
       "         [12,  0,  2,  6,  2],\n",
       "         [18, 14, 14, 16, 10]],\n",
       "\n",
       "        [[ 8, 18, 14,  2, 18],\n",
       "         [ 4,  0, 16, 14, 18],\n",
       "         [14,  2,  6, 14, 16],\n",
       "         [ 2, 16,  6, 12,  6]]],\n",
       "\n",
       "\n",
       "       [[[ 8, 12,  8,  8, 18],\n",
       "         [12,  6, 14, 18,  0],\n",
       "         [ 4,  0, 12, 12,  2],\n",
       "         [ 4, 12,  8,  6,  2]],\n",
       "\n",
       "        [[ 8, 12,  0, 12, 10],\n",
       "         [ 2,  0,  2, 10,  6],\n",
       "         [ 4, 18, 18, 12, 16],\n",
       "         [12, 10,  0,  0,  2]],\n",
       "\n",
       "        [[ 8,  2, 16, 18,  6],\n",
       "         [ 4,  4,  4, 10, 12],\n",
       "         [10, 10,  8,  2,  6],\n",
       "         [ 2, 14,  4, 12, 18]]]])"
      ]
     },
     "execution_count": 20,
>>>>>>> 4c521b71a6312a40b9eb015fbb8e789985636a0e
     "metadata": {},
     "output_type": "execute_result"
    }
   ],
   "source": [
    "# element wise sum\n",
    "A + A"
   ]
  },
  {
   "cell_type": "code",
<<<<<<< HEAD
   "execution_count": 19,
=======
   "execution_count": 21,
>>>>>>> 4c521b71a6312a40b9eb015fbb8e789985636a0e
   "metadata": {},
   "outputs": [
    {
     "data": {
      "text/plain": [
<<<<<<< HEAD
       "array([[8, 5, 8],\n",
       "       [5, 5, 6]])"
      ]
     },
     "execution_count": 19,
=======
       "array([[3, 0, 7],\n",
       "       [7, 0, 4]])"
      ]
     },
     "execution_count": 21,
>>>>>>> 4c521b71a6312a40b9eb015fbb8e789985636a0e
     "metadata": {},
     "output_type": "execute_result"
    }
   ],
   "source": [
    "B"
   ]
  },
  {
   "cell_type": "code",
<<<<<<< HEAD
   "execution_count": 20,
=======
   "execution_count": 22,
>>>>>>> 4c521b71a6312a40b9eb015fbb8e789985636a0e
   "metadata": {},
   "outputs": [
    {
     "data": {
      "text/plain": [
       "(2, 3, 4, 5)"
      ]
     },
<<<<<<< HEAD
     "execution_count": 20,
=======
     "execution_count": 22,
>>>>>>> 4c521b71a6312a40b9eb015fbb8e789985636a0e
     "metadata": {},
     "output_type": "execute_result"
    }
   ],
   "source": [
    "A.shape"
   ]
  },
  {
   "cell_type": "code",
<<<<<<< HEAD
   "execution_count": 21,
=======
   "execution_count": 23,
>>>>>>> 4c521b71a6312a40b9eb015fbb8e789985636a0e
   "metadata": {},
   "outputs": [
    {
     "data": {
      "text/plain": [
       "(2, 3)"
      ]
     },
<<<<<<< HEAD
     "execution_count": 21,
=======
     "execution_count": 23,
>>>>>>> 4c521b71a6312a40b9eb015fbb8e789985636a0e
     "metadata": {},
     "output_type": "execute_result"
    }
   ],
   "source": [
    "B.shape"
   ]
  },
  {
   "cell_type": "code",
<<<<<<< HEAD
   "execution_count": 23,
   "metadata": {},
   "outputs": [
    {
     "name": "stdout",
     "output_type": "stream",
     "text": [
      "[[181 144 153 163 188]\n",
      " [190 201 214 157 161]\n",
      " [126 137 110 137 138]\n",
      " [223 146 125 136 114]] (4, 5)\n"
     ]
=======
   "execution_count": 25,
   "metadata": {},
   "outputs": [
    {
     "data": {
      "text/plain": [
       "array([[ 87, 115, 127,  98, 138],\n",
       "       [ 67,  50, 113, 141, 114],\n",
       "       [104,  51, 106, 122,  84],\n",
       "       [ 49, 135,  84,  90,  88]])"
      ]
     },
     "execution_count": 25,
     "metadata": {},
     "output_type": "execute_result"
>>>>>>> 4c521b71a6312a40b9eb015fbb8e789985636a0e
    }
   ],
   "source": [
    "# do a dot multiplication, and specify which axis we are contracting on\n",
    "# https://docs.scipy.org/doc/numpy-1.15.1/reference/generated/numpy.tensordot.html \n",
    "out = np.tensordot(A, B, axes=([0, 1], [0, 1]))\n",
    "print out, out.shape"
   ]
  },
  {
   "cell_type": "code",
<<<<<<< HEAD
   "execution_count": 24,
=======
   "execution_count": 26,
>>>>>>> 4c521b71a6312a40b9eb015fbb8e789985636a0e
   "metadata": {},
   "outputs": [
    {
     "data": {
      "text/plain": [
       "(3, 4, 5, 3)"
      ]
     },
<<<<<<< HEAD
     "execution_count": 24,
=======
     "execution_count": 26,
>>>>>>> 4c521b71a6312a40b9eb015fbb8e789985636a0e
     "metadata": {},
     "output_type": "execute_result"
    }
   ],
   "source": [
    "np.tensordot(A, B, axes=([0], [0])).shape"
   ]
  },
  {
   "cell_type": "code",
<<<<<<< HEAD
   "execution_count": 25,
=======
   "execution_count": 27,
>>>>>>> 4c521b71a6312a40b9eb015fbb8e789985636a0e
   "metadata": {},
   "outputs": [
    {
     "data": {
      "text/plain": [
<<<<<<< HEAD
       "array([[[[ 54,  45,  60],\n",
       "         [ 40,  40,  48],\n",
       "         [ 57,  45,  62],\n",
       "         [ 41,  35,  46],\n",
       "         [ 87,  60,  90]],\n",
       "\n",
       "        [[ 53,  35,  54],\n",
       "         [ 41,  35,  46],\n",
       "         [ 60,  45,  64],\n",
       "         [ 28,  25,  32],\n",
       "         [ 36,  30,  40]],\n",
       "\n",
       "        [[ 46,  40,  52],\n",
       "         [ 50,  35,  52],\n",
       "         [ 24,  15,  24],\n",
       "         [ 18,  15,  20],\n",
       "         [ 40,  40,  48]],\n",
       "\n",
       "        [[ 70,  55,  76],\n",
       "         [ 61,  40,  62],\n",
       "         [ 25,  25,  30],\n",
       "         [ 47,  35,  50],\n",
       "         [ 44,  35,  48]]],\n",
       "\n",
       "\n",
       "       [[[ 25,  25,  30],\n",
       "         [ 46,  40,  52],\n",
       "         [ 53,  50,  62],\n",
       "         [ 88,  70,  96],\n",
       "         [ 60,  45,  64]],\n",
       "\n",
       "        [[ 96,  75, 104],\n",
       "         [ 68,  50,  72],\n",
       "         [ 49,  40,  54],\n",
       "         [ 25,  25,  30],\n",
       "         [ 48,  45,  56]],\n",
       "\n",
       "        [[ 68,  50,  72],\n",
       "         [ 31,  25,  34],\n",
       "         [ 75,  60,  82],\n",
       "         [ 61,  55,  70],\n",
       "         [ 36,  30,  40]],\n",
       "\n",
       "        [[ 69,  45,  70],\n",
       "         [ 38,  35,  44],\n",
       "         [ 88,  70,  96],\n",
       "         [ 50,  35,  52],\n",
       "         [ 45,  30,  46]]],\n",
       "\n",
       "\n",
       "       [[[ 97,  70, 102],\n",
       "         [ 60,  45,  64],\n",
       "         [ 45,  30,  46],\n",
       "         [ 46,  40,  52],\n",
       "         [ 56,  35,  56]],\n",
       "\n",
       "        [[ 53,  50,  62],\n",
       "         [101,  80, 110],\n",
       "         [107,  80, 114],\n",
       "         [ 96,  75, 104],\n",
       "         [ 76,  55,  80]],\n",
       "\n",
       "        [[ 25,  25,  30],\n",
       "         [ 53,  50,  62],\n",
       "         [ 23,  20,  26],\n",
       "         [ 64,  40,  64],\n",
       "         [ 62,  50,  68]],\n",
       "\n",
       "        [[102,  75, 108],\n",
       "         [ 47,  35,  50],\n",
       "         [ 25,  25,  30],\n",
       "         [ 53,  35,  54],\n",
       "         [ 40,  25,  40]]]])"
      ]
     },
     "execution_count": 25,
=======
       "array([[[[43,  0, 51],\n",
       "         [48,  0, 38],\n",
       "         [46,  0, 58],\n",
       "         [55,  0, 79],\n",
       "         [63,  0, 36]],\n",
       "\n",
       "        [[45,  0, 31],\n",
       "         [42,  0, 61],\n",
       "         [49,  0, 28],\n",
       "         [72,  0, 57],\n",
       "         [27,  0, 63]],\n",
       "\n",
       "        [[35,  0, 57],\n",
       "         [24,  0, 56],\n",
       "         [69,  0, 87],\n",
       "         [69,  0, 87],\n",
       "         [16,  0, 25]],\n",
       "\n",
       "        [[38,  0, 64],\n",
       "         [51,  0, 45],\n",
       "         [55,  0, 79],\n",
       "         [24,  0, 19],\n",
       "         [31,  0, 60]]],\n",
       "\n",
       "\n",
       "       [[[55,  0, 79],\n",
       "         [48,  0, 38],\n",
       "         [18,  0, 42],\n",
       "         [42,  0, 24],\n",
       "         [50,  0, 55]],\n",
       "\n",
       "        [[22,  0, 39],\n",
       "         [21,  0, 49],\n",
       "         [19,  0, 32],\n",
       "         [41,  0, 34],\n",
       "         [33,  0, 40]],\n",
       "\n",
       "        [[32,  0, 50],\n",
       "         [63,  0, 36],\n",
       "         [66,  0, 43],\n",
       "         [51,  0, 45],\n",
       "         [59,  0, 39]],\n",
       "\n",
       "        [[69,  0, 87],\n",
       "         [56,  0, 69],\n",
       "         [21,  0, 49],\n",
       "         [24,  0, 56],\n",
       "         [22,  0, 39]]],\n",
       "\n",
       "\n",
       "       [[[40,  0, 44],\n",
       "         [34,  0, 67],\n",
       "         [77,  0, 81],\n",
       "         [66,  0, 43],\n",
       "         [48,  0, 75]],\n",
       "\n",
       "        [[20,  0, 22],\n",
       "         [14,  0,  8],\n",
       "         [38,  0, 64],\n",
       "         [56,  0, 69],\n",
       "         [69,  0, 87]],\n",
       "\n",
       "        [[56,  0, 69],\n",
       "         [38,  0, 27],\n",
       "         [37,  0, 37],\n",
       "         [28,  0, 53],\n",
       "         [45,  0, 68]],\n",
       "\n",
       "        [[10,  0, 11],\n",
       "         [73,  0, 84],\n",
       "         [23,  0, 29],\n",
       "         [60,  0, 66],\n",
       "         [72,  0, 57]]]])"
      ]
     },
     "execution_count": 27,
>>>>>>> 4c521b71a6312a40b9eb015fbb8e789985636a0e
     "metadata": {},
     "output_type": "execute_result"
    }
   ],
   "source": [
    "np.tensordot(A, B, axes=([0], [0]))"
   ]
  },
  {
   "cell_type": "code",
   "execution_count": null,
   "metadata": {},
   "outputs": [],
   "source": []
  }
 ],
 "metadata": {
  "kernelspec": {
   "display_name": "Python 2",
   "language": "python",
   "name": "python2"
  },
  "language_info": {
   "codemirror_mode": {
    "name": "ipython",
    "version": 2
   },
   "file_extension": ".py",
   "mimetype": "text/x-python",
   "name": "python",
   "nbconvert_exporter": "python",
   "pygments_lexer": "ipython2",
   "version": "2.7.3"
  }
 },
 "nbformat": 4,
 "nbformat_minor": 2
}
