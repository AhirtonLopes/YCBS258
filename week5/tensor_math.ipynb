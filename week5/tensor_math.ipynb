{
 "cells": [
  {
   "cell_type": "markdown",
   "metadata": {},
   "source": [
    "# Convolutional Neural Networks"
   ]
  },
  {
   "cell_type": "markdown",
   "metadata": {},
   "source": [
    "## Machine learning on images"
   ]
  },
  {
   "cell_type": "code",
   "execution_count": 1,
   "metadata": {},
   "outputs": [],
   "source": [
    "import pandas as pd\n",
    "import numpy as np\n",
    "%matplotlib inline\n",
    "import matplotlib.pyplot as plt"
   ]
  },
  {
   "cell_type": "markdown",
   "metadata": {},
   "source": [
    "### Tensor Math"
   ]
  },
  {
   "cell_type": "code",
   "execution_count": 7,
   "metadata": {},
   "outputs": [],
   "source": [
    "# 2 groups, of 3 groups, of 4 groups, of 5 elements\n",
    "A = np.random.randint(10, size=(2, 3, 4, 5))\n",
    "B = np.random.randint(10, size=(2, 3))"
   ]
  },
  {
   "cell_type": "code",
   "execution_count": 8,
   "metadata": {},
   "outputs": [
    {
     "data": {
      "text/plain": [
       "array([[[[3, 0, 4, 2, 9],\n",
       "         [6, 2, 5, 1, 2],\n",
       "         [2, 5, 3, 1, 0],\n",
       "         [5, 7, 0, 4, 3]],\n",
       "\n",
       "        [[0, 2, 1, 6, 5],\n",
       "         [7, 6, 3, 0, 1],\n",
       "         [6, 2, 5, 2, 2],\n",
       "         [8, 1, 6, 5, 5]],\n",
       "\n",
       "        [[9, 5, 5, 2, 7],\n",
       "         [1, 7, 9, 7, 7],\n",
       "         [0, 1, 1, 8, 4],\n",
       "         [9, 4, 0, 6, 5]]],\n",
       "\n",
       "\n",
       "       [[[6, 8, 5, 5, 3],\n",
       "         [1, 5, 4, 4, 4],\n",
       "         [6, 2, 0, 2, 8],\n",
       "         [6, 1, 5, 3, 4]],\n",
       "\n",
       "        [[5, 6, 9, 8, 4],\n",
       "         [8, 4, 5, 5, 8],\n",
       "         [4, 3, 7, 9, 4],\n",
       "         [1, 6, 8, 2, 1]],\n",
       "\n",
       "        [[5, 4, 1, 6, 0],\n",
       "         [9, 9, 7, 8, 4],\n",
       "         [5, 9, 3, 0, 6],\n",
       "         [6, 3, 5, 1, 0]]]])"
      ]
     },
     "execution_count": 8,
     "metadata": {},
     "output_type": "execute_result"
    }
   ],
   "source": [
    "A"
   ]
  },
  {
   "cell_type": "code",
   "execution_count": 9,
   "metadata": {},
   "outputs": [
    {
     "data": {
      "text/plain": [
       "(120,)"
      ]
     },
     "execution_count": 9,
     "metadata": {},
     "output_type": "execute_result"
    }
   ],
   "source": [
    "A.flatten().shape"
   ]
  },
  {
   "cell_type": "code",
   "execution_count": 10,
   "metadata": {},
   "outputs": [
    {
     "data": {
      "text/plain": [
       "6"
      ]
     },
     "execution_count": 10,
     "metadata": {},
     "output_type": "execute_result"
    }
   ],
   "source": [
    "A[0, 1, 0, 3]"
   ]
  },
  {
   "cell_type": "code",
   "execution_count": 11,
   "metadata": {},
   "outputs": [
    {
     "data": {
      "text/plain": [
       "array([[8, 5, 8],\n",
       "       [5, 5, 6]])"
      ]
     },
     "execution_count": 11,
     "metadata": {},
     "output_type": "execute_result"
    }
   ],
   "source": [
    "B"
   ]
  },
  {
   "cell_type": "markdown",
   "metadata": {},
   "source": [
    "#### A random colored image"
   ]
  },
  {
   "cell_type": "code",
   "execution_count": 13,
   "metadata": {},
   "outputs": [
    {
     "name": "stdout",
     "output_type": "stream",
     "text": [
      "(array([[[232, 181, 131],\n",
      "        [117,  11, 102],\n",
      "        [ 99, 218, 196],\n",
      "        [  2,  24,  19]],\n",
      "\n",
      "       [[153, 173, 192],\n",
      "        [ 57,  12,  33],\n",
      "        [221,  88,  22],\n",
      "        [119, 163,  43]],\n",
      "\n",
      "       [[ 70, 224,  36],\n",
      "        [ 47, 223, 166],\n",
      "        [193, 238, 216],\n",
      "        [246, 160, 136]],\n",
      "\n",
      "       [[ 15, 181, 230],\n",
      "        [102, 199, 155],\n",
      "        [ 67, 155, 155],\n",
      "        [226, 220, 113]]], dtype=uint8), (4, 4, 3))\n"
     ]
    }
   ],
   "source": [
    "img = np.random.randint(255, size=(4, 4, 3), dtype='uint8')\n",
    "print(img, img.shape)"
   ]
  },
  {
   "cell_type": "code",
   "execution_count": 15,
   "metadata": {},
   "outputs": [
    {
     "data": {
      "text/plain": [
       "array([[232, 117,  99,   2],\n",
       "       [153,  57, 221, 119],\n",
       "       [ 70,  47, 193, 246],\n",
       "       [ 15, 102,  67, 226]], dtype=uint8)"
      ]
     },
     "execution_count": 15,
     "metadata": {},
     "output_type": "execute_result"
    }
   ],
   "source": [
    "img[:, : , 0]"
   ]
  },
  {
   "cell_type": "code",
   "execution_count": 16,
   "metadata": {},
   "outputs": [
    {
     "data": {
      "text/plain": [
       "Text(0.5,1,'Blue channel')"
      ]
     },
     "execution_count": 16,
     "metadata": {},
     "output_type": "execute_result"
    },
    {
     "data": {
      "image/png": "[encoded data removed]",
      "text/plain": [
       "<Figure size 360x360 with 4 Axes>"
      ]
     },
     "metadata": {},
     "output_type": "display_data"
    }
   ],
   "source": [
    "plt.figure(figsize=(5, 5))\n",
    "plt.subplot(221)\n",
    "plt.imshow(img)\n",
    "plt.title(\"All Channels combined\")\n",
    "\n",
    "plt.subplot(222)\n",
    "plt.imshow(img[:, : , 0], cmap='Reds')\n",
    "plt.title(\"Red channel\")\n",
    "\n",
    "plt.subplot(223)\n",
    "plt.imshow(img[:, : , 1], cmap='Greens')\n",
    "plt.title(\"Green channel\")\n",
    "\n",
    "plt.subplot(224)\n",
    "plt.imshow(img[:, : , 2], cmap='Blues')\n",
    "plt.title(\"Blue channel\")"
   ]
  },
  {
   "cell_type": "markdown",
   "metadata": {},
   "source": [
    "### Tensor operations"
   ]
  },
  {
   "cell_type": "code",
   "execution_count": 17,
   "metadata": {},
   "outputs": [
    {
     "data": {
      "text/plain": [
       "array([[[[ 6,  0,  8,  4, 18],\n",
       "         [12,  4, 10,  2,  4],\n",
       "         [ 4, 10,  6,  2,  0],\n",
       "         [10, 14,  0,  8,  6]],\n",
       "\n",
       "        [[ 0,  4,  2, 12, 10],\n",
       "         [14, 12,  6,  0,  2],\n",
       "         [12,  4, 10,  4,  4],\n",
       "         [16,  2, 12, 10, 10]],\n",
       "\n",
       "        [[18, 10, 10,  4, 14],\n",
       "         [ 2, 14, 18, 14, 14],\n",
       "         [ 0,  2,  2, 16,  8],\n",
       "         [18,  8,  0, 12, 10]]],\n",
       "\n",
       "\n",
       "       [[[12, 16, 10, 10,  6],\n",
       "         [ 2, 10,  8,  8,  8],\n",
       "         [12,  4,  0,  4, 16],\n",
       "         [12,  2, 10,  6,  8]],\n",
       "\n",
       "        [[10, 12, 18, 16,  8],\n",
       "         [16,  8, 10, 10, 16],\n",
       "         [ 8,  6, 14, 18,  8],\n",
       "         [ 2, 12, 16,  4,  2]],\n",
       "\n",
       "        [[10,  8,  2, 12,  0],\n",
       "         [18, 18, 14, 16,  8],\n",
       "         [10, 18,  6,  0, 12],\n",
       "         [12,  6, 10,  2,  0]]]])"
      ]
     },
     "execution_count": 17,
     "metadata": {},
     "output_type": "execute_result"
    }
   ],
   "source": [
    "2 * A"
   ]
  },
  {
   "cell_type": "code",
   "execution_count": 18,
   "metadata": {},
   "outputs": [
    {
     "data": {
      "text/plain": [
       "array([[[[ 6,  0,  8,  4, 18],\n",
       "         [12,  4, 10,  2,  4],\n",
       "         [ 4, 10,  6,  2,  0],\n",
       "         [10, 14,  0,  8,  6]],\n",
       "\n",
       "        [[ 0,  4,  2, 12, 10],\n",
       "         [14, 12,  6,  0,  2],\n",
       "         [12,  4, 10,  4,  4],\n",
       "         [16,  2, 12, 10, 10]],\n",
       "\n",
       "        [[18, 10, 10,  4, 14],\n",
       "         [ 2, 14, 18, 14, 14],\n",
       "         [ 0,  2,  2, 16,  8],\n",
       "         [18,  8,  0, 12, 10]]],\n",
       "\n",
       "\n",
       "       [[[12, 16, 10, 10,  6],\n",
       "         [ 2, 10,  8,  8,  8],\n",
       "         [12,  4,  0,  4, 16],\n",
       "         [12,  2, 10,  6,  8]],\n",
       "\n",
       "        [[10, 12, 18, 16,  8],\n",
       "         [16,  8, 10, 10, 16],\n",
       "         [ 8,  6, 14, 18,  8],\n",
       "         [ 2, 12, 16,  4,  2]],\n",
       "\n",
       "        [[10,  8,  2, 12,  0],\n",
       "         [18, 18, 14, 16,  8],\n",
       "         [10, 18,  6,  0, 12],\n",
       "         [12,  6, 10,  2,  0]]]])"
      ]
     },
     "execution_count": 18,
     "metadata": {},
     "output_type": "execute_result"
    }
   ],
   "source": [
    "# element wise sum\n",
    "A + A"
   ]
  },
  {
   "cell_type": "code",
   "execution_count": 19,
   "metadata": {},
   "outputs": [
    {
     "data": {
      "text/plain": [
       "array([[8, 5, 8],\n",
       "       [5, 5, 6]])"
      ]
     },
     "execution_count": 19,
     "metadata": {},
     "output_type": "execute_result"
    }
   ],
   "source": [
    "B"
   ]
  },
  {
   "cell_type": "code",
   "execution_count": 20,
   "metadata": {},
   "outputs": [
    {
     "data": {
      "text/plain": [
       "(2, 3, 4, 5)"
      ]
     },
     "execution_count": 20,
     "metadata": {},
     "output_type": "execute_result"
    }
   ],
   "source": [
    "A.shape"
   ]
  },
  {
   "cell_type": "code",
   "execution_count": 21,
   "metadata": {},
   "outputs": [
    {
     "data": {
      "text/plain": [
       "(2, 3)"
      ]
     },
     "execution_count": 21,
     "metadata": {},
     "output_type": "execute_result"
    }
   ],
   "source": [
    "B.shape"
   ]
  },
  {
   "cell_type": "code",
   "execution_count": 23,
   "metadata": {},
   "outputs": [
    {
     "name": "stdout",
     "output_type": "stream",
     "text": [
      "[[181 144 153 163 188]\n",
      " [190 201 214 157 161]\n",
      " [126 137 110 137 138]\n",
      " [223 146 125 136 114]] (4, 5)\n"
     ]
    }
   ],
   "source": [
    "# do a dot multiplication, and specify which axis we are contracting on\n",
    "# https://docs.scipy.org/doc/numpy-1.15.1/reference/generated/numpy.tensordot.html \n",
    "out = np.tensordot(A, B, axes=([0, 1], [0, 1]))\n",
    "print out, out.shape"
   ]
  },
  {
   "cell_type": "code",
   "execution_count": 24,
   "metadata": {},
   "outputs": [
    {
     "data": {
      "text/plain": [
       "(3, 4, 5, 3)"
      ]
     },
     "execution_count": 24,
     "metadata": {},
     "output_type": "execute_result"
    }
   ],
   "source": [
    "np.tensordot(A, B, axes=([0], [0])).shape"
   ]
  },
  {
   "cell_type": "code",
   "execution_count": 25,
   "metadata": {},
   "outputs": [
    {
     "data": {
      "text/plain": [
       "array([[[[ 54,  45,  60],\n",
       "         [ 40,  40,  48],\n",
       "         [ 57,  45,  62],\n",
       "         [ 41,  35,  46],\n",
       "         [ 87,  60,  90]],\n",
       "\n",
       "        [[ 53,  35,  54],\n",
       "         [ 41,  35,  46],\n",
       "         [ 60,  45,  64],\n",
       "         [ 28,  25,  32],\n",
       "         [ 36,  30,  40]],\n",
       "\n",
       "        [[ 46,  40,  52],\n",
       "         [ 50,  35,  52],\n",
       "         [ 24,  15,  24],\n",
       "         [ 18,  15,  20],\n",
       "         [ 40,  40,  48]],\n",
       "\n",
       "        [[ 70,  55,  76],\n",
       "         [ 61,  40,  62],\n",
       "         [ 25,  25,  30],\n",
       "         [ 47,  35,  50],\n",
       "         [ 44,  35,  48]]],\n",
       "\n",
       "\n",
       "       [[[ 25,  25,  30],\n",
       "         [ 46,  40,  52],\n",
       "         [ 53,  50,  62],\n",
       "         [ 88,  70,  96],\n",
       "         [ 60,  45,  64]],\n",
       "\n",
       "        [[ 96,  75, 104],\n",
       "         [ 68,  50,  72],\n",
       "         [ 49,  40,  54],\n",
       "         [ 25,  25,  30],\n",
       "         [ 48,  45,  56]],\n",
       "\n",
       "        [[ 68,  50,  72],\n",
       "         [ 31,  25,  34],\n",
       "         [ 75,  60,  82],\n",
       "         [ 61,  55,  70],\n",
       "         [ 36,  30,  40]],\n",
       "\n",
       "        [[ 69,  45,  70],\n",
       "         [ 38,  35,  44],\n",
       "         [ 88,  70,  96],\n",
       "         [ 50,  35,  52],\n",
       "         [ 45,  30,  46]]],\n",
       "\n",
       "\n",
       "       [[[ 97,  70, 102],\n",
       "         [ 60,  45,  64],\n",
       "         [ 45,  30,  46],\n",
       "         [ 46,  40,  52],\n",
       "         [ 56,  35,  56]],\n",
       "\n",
       "        [[ 53,  50,  62],\n",
       "         [101,  80, 110],\n",
       "         [107,  80, 114],\n",
       "         [ 96,  75, 104],\n",
       "         [ 76,  55,  80]],\n",
       "\n",
       "        [[ 25,  25,  30],\n",
       "         [ 53,  50,  62],\n",
       "         [ 23,  20,  26],\n",
       "         [ 64,  40,  64],\n",
       "         [ 62,  50,  68]],\n",
       "\n",
       "        [[102,  75, 108],\n",
       "         [ 47,  35,  50],\n",
       "         [ 25,  25,  30],\n",
       "         [ 53,  35,  54],\n",
       "         [ 40,  25,  40]]]])"
      ]
     },
     "execution_count": 25,
     "metadata": {},
     "output_type": "execute_result"
    }
   ],
   "source": [
    "np.tensordot(A, B, axes=([0], [0]))"
   ]
  },
  {
   "cell_type": "code",
   "execution_count": null,
   "metadata": {},
   "outputs": [],
   "source": []
  }
 ],
 "metadata": {
  "kernelspec": {
   "display_name": "Python 2",
   "language": "python",
   "name": "python2"
  },
  "language_info": {
   "codemirror_mode": {
    "name": "ipython",
    "version": 2
   },
   "file_extension": ".py",
   "mimetype": "text/x-python",
   "name": "python",
   "nbconvert_exporter": "python",
   "pygments_lexer": "ipython2",
   "version": "2.7.3"
  }
 },
 "nbformat": 4,
 "nbformat_minor": 2
}
