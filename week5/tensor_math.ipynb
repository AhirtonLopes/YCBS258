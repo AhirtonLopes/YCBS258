{
 "cells": [
  {
   "cell_type": "markdown",
   "metadata": {},
   "source": [
    "# Convolutional Neural Networks"
   ]
  },
  {
   "cell_type": "markdown",
   "metadata": {},
   "source": [
    "## Machine learning on images"
   ]
  },
  {
   "cell_type": "code",
   "execution_count": 10,
   "metadata": {},
   "outputs": [],
   "source": [
    "import pandas as pd\n",
    "import numpy as np\n",
    "%matplotlib inline\n",
    "import matplotlib.pyplot as plt"
   ]
  },
  {
   "cell_type": "markdown",
   "metadata": {},
   "source": [
    "### Tensor Math"
   ]
  },
  {
   "cell_type": "code",
   "execution_count": 13,
   "metadata": {},
   "outputs": [],
   "source": [
    "# 2 groups, of 3 groups, of 4 groups, of 5 elements\n",
    "import random\n",
    "random.seed(42)\n",
    "A = np.random.randint(10, size=(2, 3, 4, 5))\n",
    "B = np.random.randint(10, size=(2, 3))"
   ]
  },
  {
   "cell_type": "code",
   "execution_count": 14,
   "metadata": {},
   "outputs": [
    {
     "data": {
      "text/plain": [
       "array([[[[5, 2, 6, 9, 0],\n",
       "         [1, 7, 0, 3, 9],\n",
       "         [7, 8, 9, 9, 3],\n",
       "         [8, 3, 9, 1, 8]],\n",
       "\n",
       "        [[9, 2, 6, 0, 5],\n",
       "         [5, 7, 4, 2, 4],\n",
       "         [6, 0, 1, 3, 1],\n",
       "         [9, 7, 7, 8, 5]],\n",
       "\n",
       "        [[4, 9, 7, 1, 9],\n",
       "         [2, 0, 8, 7, 9],\n",
       "         [7, 1, 3, 7, 8],\n",
       "         [1, 8, 3, 6, 3]]],\n",
       "\n",
       "\n",
       "       [[[4, 6, 4, 4, 9],\n",
       "         [6, 3, 7, 9, 0],\n",
       "         [2, 0, 6, 6, 1],\n",
       "         [2, 6, 4, 3, 1]],\n",
       "\n",
       "        [[4, 6, 0, 6, 5],\n",
       "         [1, 0, 1, 5, 3],\n",
       "         [2, 9, 9, 6, 8],\n",
       "         [6, 5, 0, 0, 1]],\n",
       "\n",
       "        [[4, 1, 8, 9, 3],\n",
       "         [2, 2, 2, 5, 6],\n",
       "         [5, 5, 4, 1, 3],\n",
       "         [1, 7, 2, 6, 9]]]])"
      ]
     },
     "execution_count": 14,
     "metadata": {},
     "output_type": "execute_result"
    }
   ],
   "source": [
    "A"
   ]
  },
  {
   "cell_type": "code",
   "execution_count": 6,
   "metadata": {},
   "outputs": [
    {
     "data": {
      "text/plain": [
       "(120,)"
      ]
     },
     "execution_count": 6,
     "metadata": {},
     "output_type": "execute_result"
    }
   ],
   "source": [
    "A.flatten().shape"
   ]
  },
  {
   "cell_type": "code",
   "execution_count": 8,
   "metadata": {},
   "outputs": [
    {
     "data": {
      "text/plain": [
       "8"
      ]
     },
     "execution_count": 8,
     "metadata": {},
     "output_type": "execute_result"
    }
   ],
   "source": [
    "A[0, 1, 0, 3]"
   ]
  },
  {
   "cell_type": "code",
   "execution_count": 7,
   "metadata": {},
   "outputs": [
    {
     "data": {
      "text/plain": [
       "array([[0, 0, 5],\n",
       "       [0, 3, 1]])"
      ]
     },
     "execution_count": 7,
     "metadata": {},
     "output_type": "execute_result"
    }
   ],
   "source": [
    "B"
   ]
  },
  {
   "cell_type": "markdown",
   "metadata": {},
   "source": [
    "#### A random colored image"
   ]
  },
  {
   "cell_type": "code",
   "execution_count": 15,
   "metadata": {},
   "outputs": [
    {
     "name": "stdout",
     "output_type": "stream",
     "text": [
      "(array([[[  8,  89, 191],\n",
      "        [ 37,  54,  55],\n",
      "        [ 27, 252, 122],\n",
      "        [ 24, 191, 234]],\n",
      "\n",
      "       [[  8,  93,  64],\n",
      "        [214, 224, 165],\n",
      "        [ 50, 240, 196],\n",
      "        [196,  19, 249]],\n",
      "\n",
      "       [[205, 159,  15],\n",
      "        [ 42,  18,  27],\n",
      "        [109,  12, 230],\n",
      "        [ 26, 148, 143]],\n",
      "\n",
      "       [[215, 186, 118],\n",
      "        [227, 139,  32],\n",
      "        [248, 206, 112],\n",
      "        [  8,  86,  70]]], dtype=uint8), (4, 4, 3))\n"
     ]
    }
   ],
   "source": [
    "img = np.random.randint(255, size=(4, 4, 3), dtype='uint8')\n",
    "print(img, img.shape)"
   ]
  },
  {
   "cell_type": "code",
   "execution_count": 17,
   "metadata": {},
   "outputs": [
    {
     "data": {
      "text/plain": [
       "array([[  8,  37,  27,  24],\n",
       "       [  8, 214,  50, 196],\n",
       "       [205,  42, 109,  26],\n",
       "       [215, 227, 248,   8]], dtype=uint8)"
      ]
     },
     "execution_count": 17,
     "metadata": {},
     "output_type": "execute_result"
    }
   ],
   "source": [
    "img[:, : , 0]"
   ]
  },
  {
   "cell_type": "code",
   "execution_count": 18,
   "metadata": {},
   "outputs": [
    {
     "data": {
      "text/plain": [
       "Text(0.5,1,'Blue channel')"
      ]
     },
     "execution_count": 18,
     "metadata": {},
     "output_type": "execute_result"
    },
    {
     "data": {
      "image/png": "[encoded data removed]",
      "text/plain": [
       "<Figure size 360x360 with 4 Axes>"
      ]
     },
     "metadata": {},
     "output_type": "display_data"
    }
   ],
   "source": [
    "plt.figure(figsize=(5, 5))\n",
    "plt.subplot(221)\n",
    "plt.imshow(img)\n",
    "plt.title(\"All Channels combined\")\n",
    "\n",
    "plt.subplot(222)\n",
    "plt.imshow(img[:, : , 0], cmap='Reds')\n",
    "plt.title(\"Red channel\")\n",
    "\n",
    "plt.subplot(223)\n",
    "plt.imshow(img[:, : , 1], cmap='Greens')\n",
    "plt.title(\"Green channel\")\n",
    "\n",
    "plt.subplot(224)\n",
    "plt.imshow(img[:, : , 2], cmap='Blues')\n",
    "plt.title(\"Blue channel\")"
   ]
  },
  {
   "cell_type": "markdown",
   "metadata": {},
   "source": [
    "### Tensor operations"
   ]
  },
  {
   "cell_type": "code",
   "execution_count": 19,
   "metadata": {},
   "outputs": [
    {
     "data": {
      "text/plain": [
       "array([[[[10,  4, 12, 18,  0],\n",
       "         [ 2, 14,  0,  6, 18],\n",
       "         [14, 16, 18, 18,  6],\n",
       "         [16,  6, 18,  2, 16]],\n",
       "\n",
       "        [[18,  4, 12,  0, 10],\n",
       "         [10, 14,  8,  4,  8],\n",
       "         [12,  0,  2,  6,  2],\n",
       "         [18, 14, 14, 16, 10]],\n",
       "\n",
       "        [[ 8, 18, 14,  2, 18],\n",
       "         [ 4,  0, 16, 14, 18],\n",
       "         [14,  2,  6, 14, 16],\n",
       "         [ 2, 16,  6, 12,  6]]],\n",
       "\n",
       "\n",
       "       [[[ 8, 12,  8,  8, 18],\n",
       "         [12,  6, 14, 18,  0],\n",
       "         [ 4,  0, 12, 12,  2],\n",
       "         [ 4, 12,  8,  6,  2]],\n",
       "\n",
       "        [[ 8, 12,  0, 12, 10],\n",
       "         [ 2,  0,  2, 10,  6],\n",
       "         [ 4, 18, 18, 12, 16],\n",
       "         [12, 10,  0,  0,  2]],\n",
       "\n",
       "        [[ 8,  2, 16, 18,  6],\n",
       "         [ 4,  4,  4, 10, 12],\n",
       "         [10, 10,  8,  2,  6],\n",
       "         [ 2, 14,  4, 12, 18]]]])"
      ]
     },
     "execution_count": 19,
     "metadata": {},
     "output_type": "execute_result"
    }
   ],
   "source": [
    "2 * A"
   ]
  },
  {
   "cell_type": "code",
   "execution_count": 20,
   "metadata": {},
   "outputs": [
    {
     "data": {
      "text/plain": [
       "array([[[[10,  4, 12, 18,  0],\n",
       "         [ 2, 14,  0,  6, 18],\n",
       "         [14, 16, 18, 18,  6],\n",
       "         [16,  6, 18,  2, 16]],\n",
       "\n",
       "        [[18,  4, 12,  0, 10],\n",
       "         [10, 14,  8,  4,  8],\n",
       "         [12,  0,  2,  6,  2],\n",
       "         [18, 14, 14, 16, 10]],\n",
       "\n",
       "        [[ 8, 18, 14,  2, 18],\n",
       "         [ 4,  0, 16, 14, 18],\n",
       "         [14,  2,  6, 14, 16],\n",
       "         [ 2, 16,  6, 12,  6]]],\n",
       "\n",
       "\n",
       "       [[[ 8, 12,  8,  8, 18],\n",
       "         [12,  6, 14, 18,  0],\n",
       "         [ 4,  0, 12, 12,  2],\n",
       "         [ 4, 12,  8,  6,  2]],\n",
       "\n",
       "        [[ 8, 12,  0, 12, 10],\n",
       "         [ 2,  0,  2, 10,  6],\n",
       "         [ 4, 18, 18, 12, 16],\n",
       "         [12, 10,  0,  0,  2]],\n",
       "\n",
       "        [[ 8,  2, 16, 18,  6],\n",
       "         [ 4,  4,  4, 10, 12],\n",
       "         [10, 10,  8,  2,  6],\n",
       "         [ 2, 14,  4, 12, 18]]]])"
      ]
     },
     "execution_count": 20,
     "metadata": {},
     "output_type": "execute_result"
    }
   ],
   "source": [
    "# element wise sum\n",
    "A + A"
   ]
  },
  {
   "cell_type": "code",
   "execution_count": 21,
   "metadata": {},
   "outputs": [
    {
     "data": {
      "text/plain": [
       "array([[3, 0, 7],\n",
       "       [7, 0, 4]])"
      ]
     },
     "execution_count": 21,
     "metadata": {},
     "output_type": "execute_result"
    }
   ],
   "source": [
    "B"
   ]
  },
  {
   "cell_type": "code",
   "execution_count": 22,
   "metadata": {},
   "outputs": [
    {
     "data": {
      "text/plain": [
       "(2, 3, 4, 5)"
      ]
     },
     "execution_count": 22,
     "metadata": {},
     "output_type": "execute_result"
    }
   ],
   "source": [
    "A.shape"
   ]
  },
  {
   "cell_type": "code",
   "execution_count": 23,
   "metadata": {},
   "outputs": [
    {
     "data": {
      "text/plain": [
       "(2, 3)"
      ]
     },
     "execution_count": 23,
     "metadata": {},
     "output_type": "execute_result"
    }
   ],
   "source": [
    "B.shape"
   ]
  },
  {
   "cell_type": "code",
   "execution_count": 25,
   "metadata": {},
   "outputs": [
    {
     "data": {
      "text/plain": [
       "array([[ 87, 115, 127,  98, 138],\n",
       "       [ 67,  50, 113, 141, 114],\n",
       "       [104,  51, 106, 122,  84],\n",
       "       [ 49, 135,  84,  90,  88]])"
      ]
     },
     "execution_count": 25,
     "metadata": {},
     "output_type": "execute_result"
    }
   ],
   "source": [
    "# do a dot multiplication, and specify which axis we are contracting on\n",
    "# https://docs.scipy.org/doc/numpy-1.15.1/reference/generated/numpy.tensordot.html \n",
    "np.tensordot(A, B, axes=([0, 1], [0, 1]))"
   ]
  },
  {
   "cell_type": "code",
   "execution_count": 26,
   "metadata": {},
   "outputs": [
    {
     "data": {
      "text/plain": [
       "(3, 4, 5, 3)"
      ]
     },
     "execution_count": 26,
     "metadata": {},
     "output_type": "execute_result"
    }
   ],
   "source": [
    "np.tensordot(A, B, axes=([0], [0])).shape"
   ]
  },
  {
   "cell_type": "code",
   "execution_count": 27,
   "metadata": {},
   "outputs": [
    {
     "data": {
      "text/plain": [
       "array([[[[43,  0, 51],\n",
       "         [48,  0, 38],\n",
       "         [46,  0, 58],\n",
       "         [55,  0, 79],\n",
       "         [63,  0, 36]],\n",
       "\n",
       "        [[45,  0, 31],\n",
       "         [42,  0, 61],\n",
       "         [49,  0, 28],\n",
       "         [72,  0, 57],\n",
       "         [27,  0, 63]],\n",
       "\n",
       "        [[35,  0, 57],\n",
       "         [24,  0, 56],\n",
       "         [69,  0, 87],\n",
       "         [69,  0, 87],\n",
       "         [16,  0, 25]],\n",
       "\n",
       "        [[38,  0, 64],\n",
       "         [51,  0, 45],\n",
       "         [55,  0, 79],\n",
       "         [24,  0, 19],\n",
       "         [31,  0, 60]]],\n",
       "\n",
       "\n",
       "       [[[55,  0, 79],\n",
       "         [48,  0, 38],\n",
       "         [18,  0, 42],\n",
       "         [42,  0, 24],\n",
       "         [50,  0, 55]],\n",
       "\n",
       "        [[22,  0, 39],\n",
       "         [21,  0, 49],\n",
       "         [19,  0, 32],\n",
       "         [41,  0, 34],\n",
       "         [33,  0, 40]],\n",
       "\n",
       "        [[32,  0, 50],\n",
       "         [63,  0, 36],\n",
       "         [66,  0, 43],\n",
       "         [51,  0, 45],\n",
       "         [59,  0, 39]],\n",
       "\n",
       "        [[69,  0, 87],\n",
       "         [56,  0, 69],\n",
       "         [21,  0, 49],\n",
       "         [24,  0, 56],\n",
       "         [22,  0, 39]]],\n",
       "\n",
       "\n",
       "       [[[40,  0, 44],\n",
       "         [34,  0, 67],\n",
       "         [77,  0, 81],\n",
       "         [66,  0, 43],\n",
       "         [48,  0, 75]],\n",
       "\n",
       "        [[20,  0, 22],\n",
       "         [14,  0,  8],\n",
       "         [38,  0, 64],\n",
       "         [56,  0, 69],\n",
       "         [69,  0, 87]],\n",
       "\n",
       "        [[56,  0, 69],\n",
       "         [38,  0, 27],\n",
       "         [37,  0, 37],\n",
       "         [28,  0, 53],\n",
       "         [45,  0, 68]],\n",
       "\n",
       "        [[10,  0, 11],\n",
       "         [73,  0, 84],\n",
       "         [23,  0, 29],\n",
       "         [60,  0, 66],\n",
       "         [72,  0, 57]]]])"
      ]
     },
     "execution_count": 27,
     "metadata": {},
     "output_type": "execute_result"
    }
   ],
   "source": [
    "np.tensordot(A, B, axes=([0], [0]))"
   ]
  },
  {
   "cell_type": "code",
   "execution_count": null,
   "metadata": {},
   "outputs": [],
   "source": []
  }
 ],
 "metadata": {
  "kernelspec": {
   "display_name": "Python 2",
   "language": "python",
   "name": "python2"
  },
  "language_info": {
   "codemirror_mode": {
    "name": "ipython",
    "version": 2
   },
   "file_extension": ".py",
   "mimetype": "text/x-python",
   "name": "python",
   "nbconvert_exporter": "python",
   "pygments_lexer": "ipython2",
   "version": "2.7.3"
  }
 },
 "nbformat": 4,
 "nbformat_minor": 2
}
