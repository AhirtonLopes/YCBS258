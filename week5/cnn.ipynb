{
 "cells": [
  {
   "cell_type": "code",
   "execution_count": 1,
   "metadata": {},
   "outputs": [
    {
     "name": "stderr",
     "output_type": "stream",
     "text": [
      "/anaconda2/lib/python2.7/site-packages/h5py/__init__.py:36: FutureWarning: Conversion of the second argument of issubdtype from `float` to `np.floating` is deprecated. In future, it will be treated as `np.float64 == np.dtype(float).type`.\n",
      "  from ._conv import register_converters as _register_converters\n",
      "Using TensorFlow backend.\n",
      "/anaconda2/lib/python2.7/site-packages/cryptography/hazmat/primitives/constant_time.py:26: CryptographyDeprecationWarning: Support for your Python version is deprecated. The next version of cryptography will remove support. Please upgrade to a 2.7.x release that supports hmac.compare_digest as soon as possible.\n",
      "  utils.DeprecatedIn23,\n"
     ]
    }
   ],
   "source": [
    "import pandas as pd\n",
    "import numpy as np\n",
    "%matplotlib inline\n",
    "import matplotlib.pyplot as plt\n",
    "\n",
    "from keras.datasets import mnist\n",
    "from keras.models import Sequential\n",
    "from keras.layers import Dense, Conv2D, MaxPool2D, AvgPool2D\n",
    "from keras.utils.np_utils import to_categorical\n",
    "\n",
    "import keras.backend as K\n"
   ]
  },
  {
   "cell_type": "code",
<<<<<<< HEAD
   "execution_count": 9,
=======
   "execution_count": 2,
>>>>>>> 4c521b71a6312a40b9eb015fbb8e789985636a0e
   "metadata": {},
   "outputs": [
    {
     "data": {
      "text/plain": [
       "(60000, 28, 28)"
      ]
     },
<<<<<<< HEAD
     "execution_count": 9,
=======
     "execution_count": 2,
>>>>>>> 4c521b71a6312a40b9eb015fbb8e789985636a0e
     "metadata": {},
     "output_type": "execute_result"
    }
   ],
   "source": [
    "(X_train, y_train), (X_test, y_test) = mnist.load_data('mnist.npz')\n",
    "y_train_cat = to_categorical(y_train)\n",
    "y_test_cat = to_categorical(y_test)\n",
    "X_train.shape"
   ]
  },
  {
   "cell_type": "code",
<<<<<<< HEAD
   "execution_count": 14,
=======
   "execution_count": 9,
>>>>>>> 4c521b71a6312a40b9eb015fbb8e789985636a0e
   "metadata": {},
   "outputs": [
    {
     "data": {
      "text/plain": [
       "(60000, 28, 28, 1)"
      ]
     },
     "execution_count": 14,
     "metadata": {},
     "output_type": "execute_result"
    }
   ],
   "source": [
    "X_train = X_train.reshape(-1, 28, 28, 1)\n",
    "X_test = X_test.reshape(-1, 28, 28, 1)\n",
    "X_train.shape"
   ]
  },
  {
   "cell_type": "code",
<<<<<<< HEAD
   "execution_count": 15,
=======
   "execution_count": 10,
>>>>>>> 4c521b71a6312a40b9eb015fbb8e789985636a0e
   "metadata": {},
   "outputs": [],
   "source": [
    "from keras.layers import Flatten, Activation"
   ]
  },
  {
   "cell_type": "code",
<<<<<<< HEAD
   "execution_count": 17,
=======
   "execution_count": 11,
>>>>>>> 4c521b71a6312a40b9eb015fbb8e789985636a0e
   "metadata": {},
   "outputs": [],
   "source": [
    "K.clear_session()\n",
    "\n",
    "model = Sequential()\n",
    "\n",
    "model.add(Conv2D(32, (3, 3), input_shape=(28, 28, 1)))\n",
    "model.add(MaxPool2D(pool_size=(2, 2)))\n",
    "model.add(Activation('relu'))\n",
    "\n",
    "model.add(Conv2D(32, (3, 3)))\n",
    "model.add(MaxPool2D(pool_size=(2, 2)))\n",
    "model.add(Activation('relu'))\n",
    "\n",
    "model.add(Flatten())\n",
    "\n",
    "model.add(Dense(128, activation='relu'))\n",
    "\n",
    "model.add(Dense(10, activation='softmax'))\n",
    "\n",
    "model.compile(loss='categorical_crossentropy',\n",
    "              optimizer='rmsprop',\n",
    "              metrics=['accuracy'])"
   ]
  },
  {
   "cell_type": "code",
<<<<<<< HEAD
   "execution_count": 18,
=======
   "execution_count": 12,
>>>>>>> 4c521b71a6312a40b9eb015fbb8e789985636a0e
   "metadata": {},
   "outputs": [
    {
     "name": "stdout",
     "output_type": "stream",
     "text": [
      "_________________________________________________________________\n",
      "Layer (type)                 Output Shape              Param #   \n",
      "=================================================================\n",
      "conv2d_1 (Conv2D)            (None, 26, 26, 32)        320       \n",
      "_________________________________________________________________\n",
      "max_pooling2d_1 (MaxPooling2 (None, 13, 13, 32)        0         \n",
      "_________________________________________________________________\n",
      "activation_1 (Activation)    (None, 13, 13, 32)        0         \n",
      "_________________________________________________________________\n",
      "flatten_1 (Flatten)          (None, 5408)              0         \n",
      "_________________________________________________________________\n",
      "dense_1 (Dense)              (None, 128)               692352    \n",
      "_________________________________________________________________\n",
      "dense_2 (Dense)              (None, 10)                1290      \n",
      "=================================================================\n",
      "Total params: 693,962\n",
      "Trainable params: 693,962\n",
      "Non-trainable params: 0\n",
      "_________________________________________________________________\n"
     ]
    }
   ],
   "source": [
    "model.summary()"
   ]
  },
  {
   "cell_type": "code",
<<<<<<< HEAD
   "execution_count": 23,
=======
   "execution_count": 13,
>>>>>>> 4c521b71a6312a40b9eb015fbb8e789985636a0e
   "metadata": {},
   "outputs": [
    {
     "name": "stdout",
     "output_type": "stream",
     "text": [
      "Train on 42000 samples, validate on 18000 samples\n",
      "Epoch 1/2\n",
<<<<<<< HEAD
      "42000/42000 [==============================] - 11s 267us/step - loss: 8.4692 - acc: 0.4726 - val_loss: 6.8187 - val_acc: 0.5714\n",
      "Epoch 2/2\n",
      "42000/42000 [==============================] - 13s 298us/step - loss: 4.5840 - acc: 0.7077 - val_loss: 3.5548 - val_acc: 0.7709\n"
=======
      "42000/42000 [==============================] - 11s 256us/step - loss: 12.8202 - acc: 0.2040 - val_loss: 12.8003 - val_acc: 0.2057\n",
      "Epoch 2/2\n",
      "42000/42000 [==============================] - 10s 243us/step - loss: 12.7671 - acc: 0.2078 - val_loss: 12.7885 - val_acc: 0.2065\n"
>>>>>>> 4c521b71a6312a40b9eb015fbb8e789985636a0e
     ]
    },
    {
     "data": {
      "text/plain": [
<<<<<<< HEAD
       "<keras.callbacks.History at 0x183d82ead0>"
      ]
     },
     "execution_count": 23,
=======
       "<keras.callbacks.History at 0x183973f7d0>"
      ]
     },
     "execution_count": 13,
>>>>>>> 4c521b71a6312a40b9eb015fbb8e789985636a0e
     "metadata": {},
     "output_type": "execute_result"
    }
   ],
   "source": [
    "model.fit(X_train, y_train_cat, batch_size=128,\n",
    "          epochs=2, verbose=1, validation_split=0.3)"
   ]
  },
  {
   "cell_type": "code",
<<<<<<< HEAD
   "execution_count": 24,
=======
   "execution_count": 14,
>>>>>>> 4c521b71a6312a40b9eb015fbb8e789985636a0e
   "metadata": {},
   "outputs": [
    {
     "name": "stdout",
     "output_type": "stream",
     "text": [
<<<<<<< HEAD
      "10000/10000 [==============================] - 1s 134us/step\n"
=======
      "10000/10000 [==============================] - 1s 69us/step\n"
>>>>>>> 4c521b71a6312a40b9eb015fbb8e789985636a0e
     ]
    },
    {
     "data": {
      "text/plain": [
<<<<<<< HEAD
       "[3.5164944068908692, 0.774]"
      ]
     },
     "execution_count": 24,
=======
       "[12.649481378173828, 0.2152]"
      ]
     },
     "execution_count": 14,
>>>>>>> 4c521b71a6312a40b9eb015fbb8e789985636a0e
     "metadata": {},
     "output_type": "execute_result"
    }
   ],
   "source": [
    "model.evaluate(X_test, y_test_cat)"
   ]
  },
  {
   "cell_type": "code",
   "execution_count": 21,
   "metadata": {},
   "outputs": [
    {
     "data": {
      "text/plain": [
       "<matplotlib.image.AxesImage at 0x183d6834d0>"
      ]
     },
     "execution_count": 21,
     "metadata": {},
     "output_type": "execute_result"
    },
    {
     "data": {
      "image/png": "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\n",
      "text/plain": [
       "<Figure size 432x288 with 1 Axes>"
      ]
     },
     "metadata": {},
     "output_type": "display_data"
    }
   ],
   "source": [
    "weights = model.get_weights()\n",
    "weights[5].shape\n",
    "plt.imshow(weights[0][:, :, 0, 0], cmap='gray')"
   ]
  },
  {
   "cell_type": "code",
   "execution_count": null,
   "metadata": {},
   "outputs": [],
   "source": []
  },
  {
   "cell_type": "code",
   "execution_count": null,
   "metadata": {},
   "outputs": [],
   "source": []
  }
 ],
 "metadata": {
  "kernelspec": {
   "display_name": "Python 2",
   "language": "python",
   "name": "python2"
  },
  "language_info": {
   "codemirror_mode": {
    "name": "ipython",
    "version": 2
   },
   "file_extension": ".py",
   "mimetype": "text/x-python",
   "name": "python",
   "nbconvert_exporter": "python",
   "pygments_lexer": "ipython2",
   "version": "2.7.3"
  }
 },
 "nbformat": 4,
 "nbformat_minor": 2
}
